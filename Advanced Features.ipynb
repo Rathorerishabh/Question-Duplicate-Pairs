{
  "metadata": {
    "kernelspec": {
      "language": "python",
      "display_name": "Python 3",
      "name": "python3"
    },
    "language_info": {
      "name": "python",
      "version": "3.10.15",
      "mimetype": "text/x-python",
      "codemirror_mode": {
        "name": "ipython",
        "version": 3
      },
      "pygments_lexer": "ipython3",
      "nbconvert_exporter": "python",
      "file_extension": ".py"
    },
    "kaggle": {
      "accelerator": "tpu1vmV38",
      "dataSources": [
        {
          "sourceId": 9558624,
          "sourceType": "datasetVersion",
          "datasetId": 5824723
        }
      ],
      "dockerImageVersionId": 30788,
      "isInternetEnabled": true,
      "language": "python",
      "sourceType": "notebook",
      "isGpuEnabled": false
    },
    "colab": {
      "name": "Quora",
      "provenance": []
    }
  },
  "nbformat_minor": 0,
  "nbformat": 4,
  "cells": [
    {
      "source": [
        "\n",
        "# IMPORTANT: RUN THIS CELL IN ORDER TO IMPORT YOUR KAGGLE DATA SOURCES\n",
        "# TO THE CORRECT LOCATION (/kaggle/input) IN YOUR NOTEBOOK,\n",
        "# THEN FEEL FREE TO DELETE THIS CELL.\n",
        "# NOTE: THIS NOTEBOOK ENVIRONMENT DIFFERS FROM KAGGLE'S PYTHON\n",
        "# ENVIRONMENT SO THERE MAY BE MISSING LIBRARIES USED BY YOUR\n",
        "# NOTEBOOK.\n",
        "\n",
        "import os\n",
        "import sys\n",
        "from tempfile import NamedTemporaryFile\n",
        "from urllib.request import urlopen\n",
        "from urllib.parse import unquote, urlparse\n",
        "from urllib.error import HTTPError\n",
        "from zipfile import ZipFile\n",
        "import tarfile\n",
        "import shutil\n",
        "\n",
        "CHUNK_SIZE = 40960\n",
        "DATA_SOURCE_MAPPING = 'quorafeatures:https%3A%2F%2Fstorage.googleapis.com%2Fkaggle-data-sets%2F5824723%2F9558624%2Fbundle%2Farchive.zip%3FX-Goog-Algorithm%3DGOOG4-RSA-SHA256%26X-Goog-Credential%3Dgcp-kaggle-com%2540kaggle-161607.iam.gserviceaccount.com%252F20241006%252Fauto%252Fstorage%252Fgoog4_request%26X-Goog-Date%3D20241006T215948Z%26X-Goog-Expires%3D259200%26X-Goog-SignedHeaders%3Dhost%26X-Goog-Signature%3D548a2bd1927d78aaa43a88c5ec31fac20ed0f1dd3b1a294b3982fef09ee2cdec6f0dee58d2ef972e6c0b9230fef6c5436f3e4a39e2be1ef5bbe935a4c9cbf7f8f736878e46cb3f73dac6908b25e8995a3d05c752a20b07f45abafd86b476e2ee8e21f8892a744cd7e6073d369d002ce7bdce3a3a3bf7535c0d3b8eaa4a9dce6b844fbc8226b278f20b6b544a14c60570b40baef916021974124a74f7c206b7551f2e532c62cb461909809ca3961b3f718a26584a5bb1ebdb4df777097fee7273d72cb699ebe70cec7887060b877ede24dfba01f960f1c79d50f11bd2d28214b8576e59e27b7ce22175f528eacda45be3ca4bee4463e0f6045b5629b1569b9e89'\n",
        "\n",
        "KAGGLE_INPUT_PATH='/kaggle/input'\n",
        "KAGGLE_WORKING_PATH='/kaggle/working'\n",
        "KAGGLE_SYMLINK='kaggle'\n",
        "\n",
        "!umount /kaggle/input/ 2> /dev/null\n",
        "shutil.rmtree('/kaggle/input', ignore_errors=True)\n",
        "os.makedirs(KAGGLE_INPUT_PATH, 0o777, exist_ok=True)\n",
        "os.makedirs(KAGGLE_WORKING_PATH, 0o777, exist_ok=True)\n",
        "\n",
        "try:\n",
        "  os.symlink(KAGGLE_INPUT_PATH, os.path.join(\"..\", 'input'), target_is_directory=True)\n",
        "except FileExistsError:\n",
        "  pass\n",
        "try:\n",
        "  os.symlink(KAGGLE_WORKING_PATH, os.path.join(\"..\", 'working'), target_is_directory=True)\n",
        "except FileExistsError:\n",
        "  pass\n",
        "\n",
        "for data_source_mapping in DATA_SOURCE_MAPPING.split(','):\n",
        "    directory, download_url_encoded = data_source_mapping.split(':')\n",
        "    download_url = unquote(download_url_encoded)\n",
        "    filename = urlparse(download_url).path\n",
        "    destination_path = os.path.join(KAGGLE_INPUT_PATH, directory)\n",
        "    try:\n",
        "        with urlopen(download_url) as fileres, NamedTemporaryFile() as tfile:\n",
        "            total_length = fileres.headers['content-length']\n",
        "            print(f'Downloading {directory}, {total_length} bytes compressed')\n",
        "            dl = 0\n",
        "            data = fileres.read(CHUNK_SIZE)\n",
        "            while len(data) > 0:\n",
        "                dl += len(data)\n",
        "                tfile.write(data)\n",
        "                done = int(50 * dl / int(total_length))\n",
        "                sys.stdout.write(f\"\\r[{'=' * done}{' ' * (50-done)}] {dl} bytes downloaded\")\n",
        "                sys.stdout.flush()\n",
        "                data = fileres.read(CHUNK_SIZE)\n",
        "            if filename.endswith('.zip'):\n",
        "              with ZipFile(tfile) as zfile:\n",
        "                zfile.extractall(destination_path)\n",
        "            else:\n",
        "              with tarfile.open(tfile.name) as tarfile:\n",
        "                tarfile.extractall(destination_path)\n",
        "            print(f'\\nDownloaded and uncompressed: {directory}')\n",
        "    except HTTPError as e:\n",
        "        print(f'Failed to load (likely expired) {download_url} to path {destination_path}')\n",
        "        continue\n",
        "    except OSError as e:\n",
        "        print(f'Failed to load {download_url} to path {destination_path}')\n",
        "        continue\n",
        "\n",
        "print('Data source import complete.')\n"
      ],
      "metadata": {
        "id": "MAG6gzoJWLj1"
      },
      "cell_type": "code",
      "outputs": [],
      "execution_count": null
    },
    {
      "cell_type": "code",
      "source": [],
      "metadata": {
        "id": "_uGheGXmWLj4"
      },
      "execution_count": null,
      "outputs": []
    },
    {
      "cell_type": "raw",
      "source": [
        "# This Python 3 environment comes with many helpful analytics libraries installed\n",
        "# It is defined by the kaggle/python Docker image: https://github.com/kaggle/docker-python\n",
        "# For example, here's several helpful packages to load\n",
        "\n",
        "import numpy as np # linear algebra\n",
        "import pandas as pd # data processing, CSV file I/O (e.g. pd.read_csv)\n",
        "\n",
        "# Input data files are available in the read-only \"../input/\" directory\n",
        "# For example, running this (by clicking run or pressing Shift+Enter) will list all files under the input directory\n",
        "\n",
        "import os\n",
        "for dirname, _, filenames in os.walk('/kaggle/input'):\n",
        "    for filename in filenames:\n",
        "        print(os.path.join(dirname, filename))\n",
        "\n",
        "# You can write up to 20GB to the current directory (/kaggle/working/) that gets preserved as output when you create a version using \"Save & Run All\"\n",
        "# You can also write temporary files to /kaggle/temp/, but they won't be saved outside of the current session"
      ],
      "metadata": {
        "_uuid": "8f2839f25d086af736a60e9eeb907d3b93b6e0e5",
        "_cell_guid": "b1076dfc-b9ad-4769-8c92-a6c4dae69d19",
        "id": "CO8eALJtWLj5"
      }
    },
    {
      "cell_type": "code",
      "source": [
        "import pandas as pd\n",
        "import numpy as np"
      ],
      "metadata": {
        "execution": {
          "iopub.status.busy": "2024-10-06T20:56:39.696356Z",
          "iopub.execute_input": "2024-10-06T20:56:39.696784Z",
          "iopub.status.idle": "2024-10-06T20:56:41.626754Z",
          "shell.execute_reply.started": "2024-10-06T20:56:39.696753Z",
          "shell.execute_reply": "2024-10-06T20:56:41.626075Z"
        },
        "trusted": true,
        "id": "t57BLkvYWLj6"
      },
      "execution_count": null,
      "outputs": []
    },
    {
      "cell_type": "code",
      "source": [
        "df=pd.read_csv(\"/kaggle/input/quorafeatures/final_features.csv\")"
      ],
      "metadata": {
        "execution": {
          "iopub.status.busy": "2024-10-06T20:56:42.951179Z",
          "iopub.execute_input": "2024-10-06T20:56:42.95158Z",
          "iopub.status.idle": "2024-10-06T20:56:44.234044Z",
          "shell.execute_reply.started": "2024-10-06T20:56:42.951552Z",
          "shell.execute_reply": "2024-10-06T20:56:44.233251Z"
        },
        "trusted": true,
        "id": "B0Cwf46oWLj7"
      },
      "execution_count": null,
      "outputs": []
    },
    {
      "cell_type": "code",
      "source": [
        "df.head()"
      ],
      "metadata": {
        "execution": {
          "iopub.status.busy": "2024-10-06T20:57:10.097027Z",
          "iopub.execute_input": "2024-10-06T20:57:10.097354Z",
          "iopub.status.idle": "2024-10-06T20:57:10.120224Z",
          "shell.execute_reply.started": "2024-10-06T20:57:10.097327Z",
          "shell.execute_reply": "2024-10-06T20:57:10.119624Z"
        },
        "trusted": true,
        "id": "gavljw8hWLj8",
        "outputId": "ac2ed6d6-4ad3-45b4-a098-ffd7b5587985"
      },
      "execution_count": null,
      "outputs": [
        {
          "execution_count": 4,
          "output_type": "execute_result",
          "data": {
            "text/plain": "   Unnamed: 0      id    qid1    qid2  \\\n0      198127  198127     570  140055   \n1      338078  338078  361056  465606   \n2      246894  246894  344397  360022   \n3       79011   79011  134619    1121   \n4      150179  150179  236419  236420   \n\n                                           question1  \\\n0  where can i buy best quality customized cupcak...   \n1      how can you determine the valency of hydrogen   \n2                              how can i inspire you   \n3  what are the must places to visit in kerala  6...   \n4      how do you qualify for gastric bypass surgery   \n\n                                           question2  is_duplicate  \\\n0  where can i buy delicious  fresh   hand made c...             1   \n1            how is valency of phosphorus determined             0   \n2                           how can i inspire myself             0   \n3  what are the best places to visit in kerala fo...             1   \n4  what are the positive and negative side effect...             0   \n\n                                question1_lemmatized  \\\n0  where can i buy best quality customized cupcak...   \n1      how can you determine the valency of hydrogen   \n2                              how can i inspire you   \n3  what are the must place to visit in kerala 6 7...   \n4      how do you qualify for gastric bypass surgery   \n\n                                question2_lemmatized  q1_len  ...   ctc_max  \\\n0  where can i buy delicious fresh hand made cup ...      61  ...  0.299997   \n1            how is valency of phosphorus determined      45  ...  0.333322   \n2                           how can i inspire myself      21  ...  0.999900   \n3  what are the best place to visit in kerala for...      50  ...  0.428565   \n4  what are the positive and negative side effect...      45  ...  0.333330   \n\n   last_word_eq  first_word_eq  abs_len_diff  mean_len  longest_substr_ratio  \\\n0      0.428565       0.428565           3.0      12.5                  32.0   \n1      0.333322       0.333322           2.0       7.0                  35.0   \n2      0.999900       0.999900           0.0       5.0                   5.0   \n3      0.499992       0.499992           0.0      12.0                  18.0   \n4      0.749981       0.749981           8.0      12.0                  56.0   \n\n   fuzz_ratio  fuzz_partial_ratio  token_sort_ratio  token_set_ratio  \n0          65                  56                59               63  \n1          50                  54                64               67  \n2          84                  90                84               89  \n3          79                  84                68               85  \n4          46                  58                48               66  \n\n[5 rows x 31 columns]",
            "text/html": "<div>\n<style scoped>\n    .dataframe tbody tr th:only-of-type {\n        vertical-align: middle;\n    }\n\n    .dataframe tbody tr th {\n        vertical-align: top;\n    }\n\n    .dataframe thead th {\n        text-align: right;\n    }\n</style>\n<table border=\"1\" class=\"dataframe\">\n  <thead>\n    <tr style=\"text-align: right;\">\n      <th></th>\n      <th>Unnamed: 0</th>\n      <th>id</th>\n      <th>qid1</th>\n      <th>qid2</th>\n      <th>question1</th>\n      <th>question2</th>\n      <th>is_duplicate</th>\n      <th>question1_lemmatized</th>\n      <th>question2_lemmatized</th>\n      <th>q1_len</th>\n      <th>...</th>\n      <th>ctc_max</th>\n      <th>last_word_eq</th>\n      <th>first_word_eq</th>\n      <th>abs_len_diff</th>\n      <th>mean_len</th>\n      <th>longest_substr_ratio</th>\n      <th>fuzz_ratio</th>\n      <th>fuzz_partial_ratio</th>\n      <th>token_sort_ratio</th>\n      <th>token_set_ratio</th>\n    </tr>\n  </thead>\n  <tbody>\n    <tr>\n      <th>0</th>\n      <td>198127</td>\n      <td>198127</td>\n      <td>570</td>\n      <td>140055</td>\n      <td>where can i buy best quality customized cupcak...</td>\n      <td>where can i buy delicious  fresh   hand made c...</td>\n      <td>1</td>\n      <td>where can i buy best quality customized cupcak...</td>\n      <td>where can i buy delicious fresh hand made cup ...</td>\n      <td>61</td>\n      <td>...</td>\n      <td>0.299997</td>\n      <td>0.428565</td>\n      <td>0.428565</td>\n      <td>3.0</td>\n      <td>12.5</td>\n      <td>32.0</td>\n      <td>65</td>\n      <td>56</td>\n      <td>59</td>\n      <td>63</td>\n    </tr>\n    <tr>\n      <th>1</th>\n      <td>338078</td>\n      <td>338078</td>\n      <td>361056</td>\n      <td>465606</td>\n      <td>how can you determine the valency of hydrogen</td>\n      <td>how is valency of phosphorus determined</td>\n      <td>0</td>\n      <td>how can you determine the valency of hydrogen</td>\n      <td>how is valency of phosphorus determined</td>\n      <td>45</td>\n      <td>...</td>\n      <td>0.333322</td>\n      <td>0.333322</td>\n      <td>0.333322</td>\n      <td>2.0</td>\n      <td>7.0</td>\n      <td>35.0</td>\n      <td>50</td>\n      <td>54</td>\n      <td>64</td>\n      <td>67</td>\n    </tr>\n    <tr>\n      <th>2</th>\n      <td>246894</td>\n      <td>246894</td>\n      <td>344397</td>\n      <td>360022</td>\n      <td>how can i inspire you</td>\n      <td>how can i inspire myself</td>\n      <td>0</td>\n      <td>how can i inspire you</td>\n      <td>how can i inspire myself</td>\n      <td>21</td>\n      <td>...</td>\n      <td>0.999900</td>\n      <td>0.999900</td>\n      <td>0.999900</td>\n      <td>0.0</td>\n      <td>5.0</td>\n      <td>5.0</td>\n      <td>84</td>\n      <td>90</td>\n      <td>84</td>\n      <td>89</td>\n    </tr>\n    <tr>\n      <th>3</th>\n      <td>79011</td>\n      <td>79011</td>\n      <td>134619</td>\n      <td>1121</td>\n      <td>what are the must places to visit in kerala  6...</td>\n      <td>what are the best places to visit in kerala fo...</td>\n      <td>1</td>\n      <td>what are the must place to visit in kerala 6 7...</td>\n      <td>what are the best place to visit in kerala for...</td>\n      <td>50</td>\n      <td>...</td>\n      <td>0.428565</td>\n      <td>0.499992</td>\n      <td>0.499992</td>\n      <td>0.0</td>\n      <td>12.0</td>\n      <td>18.0</td>\n      <td>79</td>\n      <td>84</td>\n      <td>68</td>\n      <td>85</td>\n    </tr>\n    <tr>\n      <th>4</th>\n      <td>150179</td>\n      <td>150179</td>\n      <td>236419</td>\n      <td>236420</td>\n      <td>how do you qualify for gastric bypass surgery</td>\n      <td>what are the positive and negative side effect...</td>\n      <td>0</td>\n      <td>how do you qualify for gastric bypass surgery</td>\n      <td>what are the positive and negative side effect...</td>\n      <td>45</td>\n      <td>...</td>\n      <td>0.333330</td>\n      <td>0.749981</td>\n      <td>0.749981</td>\n      <td>8.0</td>\n      <td>12.0</td>\n      <td>56.0</td>\n      <td>46</td>\n      <td>58</td>\n      <td>48</td>\n      <td>66</td>\n    </tr>\n  </tbody>\n</table>\n<p>5 rows × 31 columns</p>\n</div>"
          },
          "metadata": {}
        }
      ]
    },
    {
      "cell_type": "code",
      "source": [
        "df=df.drop([\"Unnamed: 0\",'qid1','qid2'],axis=1)"
      ],
      "metadata": {
        "execution": {
          "iopub.status.busy": "2024-10-06T20:57:11.745911Z",
          "iopub.execute_input": "2024-10-06T20:57:11.746787Z",
          "iopub.status.idle": "2024-10-06T20:57:11.760353Z",
          "shell.execute_reply.started": "2024-10-06T20:57:11.746748Z",
          "shell.execute_reply": "2024-10-06T20:57:11.759646Z"
        },
        "trusted": true,
        "id": "UQ5gdIiyWLj9"
      },
      "execution_count": null,
      "outputs": []
    },
    {
      "cell_type": "code",
      "source": [
        "ques_df=df[['question1_lemmatized','question2_lemmatized']]\n",
        "ques_df.head()"
      ],
      "metadata": {
        "execution": {
          "iopub.status.busy": "2024-10-06T20:57:13.725977Z",
          "iopub.execute_input": "2024-10-06T20:57:13.726687Z",
          "iopub.status.idle": "2024-10-06T20:57:13.737784Z",
          "shell.execute_reply.started": "2024-10-06T20:57:13.726648Z",
          "shell.execute_reply": "2024-10-06T20:57:13.737142Z"
        },
        "trusted": true,
        "id": "QkaDZJpoWLj-",
        "outputId": "b174370a-0153-4387-8b18-10abe15ee852"
      },
      "execution_count": null,
      "outputs": [
        {
          "execution_count": 6,
          "output_type": "execute_result",
          "data": {
            "text/plain": "                                question1_lemmatized  \\\n0  where can i buy best quality customized cupcak...   \n1      how can you determine the valency of hydrogen   \n2                              how can i inspire you   \n3  what are the must place to visit in kerala 6 7...   \n4      how do you qualify for gastric bypass surgery   \n\n                                question2_lemmatized  \n0  where can i buy delicious fresh hand made cup ...  \n1            how is valency of phosphorus determined  \n2                           how can i inspire myself  \n3  what are the best place to visit in kerala for...  \n4  what are the positive and negative side effect...  ",
            "text/html": "<div>\n<style scoped>\n    .dataframe tbody tr th:only-of-type {\n        vertical-align: middle;\n    }\n\n    .dataframe tbody tr th {\n        vertical-align: top;\n    }\n\n    .dataframe thead th {\n        text-align: right;\n    }\n</style>\n<table border=\"1\" class=\"dataframe\">\n  <thead>\n    <tr style=\"text-align: right;\">\n      <th></th>\n      <th>question1_lemmatized</th>\n      <th>question2_lemmatized</th>\n    </tr>\n  </thead>\n  <tbody>\n    <tr>\n      <th>0</th>\n      <td>where can i buy best quality customized cupcak...</td>\n      <td>where can i buy delicious fresh hand made cup ...</td>\n    </tr>\n    <tr>\n      <th>1</th>\n      <td>how can you determine the valency of hydrogen</td>\n      <td>how is valency of phosphorus determined</td>\n    </tr>\n    <tr>\n      <th>2</th>\n      <td>how can i inspire you</td>\n      <td>how can i inspire myself</td>\n    </tr>\n    <tr>\n      <th>3</th>\n      <td>what are the must place to visit in kerala 6 7...</td>\n      <td>what are the best place to visit in kerala for...</td>\n    </tr>\n    <tr>\n      <th>4</th>\n      <td>how do you qualify for gastric bypass surgery</td>\n      <td>what are the positive and negative side effect...</td>\n    </tr>\n  </tbody>\n</table>\n</div>"
          },
          "metadata": {}
        }
      ]
    },
    {
      "cell_type": "code",
      "source": [
        "final_df=df.drop(['question1','question2','question1_lemmatized','question2_lemmatized','id'],axis=1)"
      ],
      "metadata": {
        "execution": {
          "iopub.status.busy": "2024-10-06T20:57:15.16607Z",
          "iopub.execute_input": "2024-10-06T20:57:15.166755Z",
          "iopub.status.idle": "2024-10-06T20:57:15.178745Z",
          "shell.execute_reply.started": "2024-10-06T20:57:15.16672Z",
          "shell.execute_reply": "2024-10-06T20:57:15.178003Z"
        },
        "trusted": true,
        "id": "PficPqdlWLj_"
      },
      "execution_count": null,
      "outputs": []
    },
    {
      "cell_type": "code",
      "source": [
        "final_df.shape"
      ],
      "metadata": {
        "execution": {
          "iopub.status.busy": "2024-10-06T20:57:16.286027Z",
          "iopub.execute_input": "2024-10-06T20:57:16.286838Z",
          "iopub.status.idle": "2024-10-06T20:57:16.29143Z",
          "shell.execute_reply.started": "2024-10-06T20:57:16.2868Z",
          "shell.execute_reply": "2024-10-06T20:57:16.290829Z"
        },
        "trusted": true,
        "id": "AF4fS36kWLj_",
        "outputId": "a235f1b8-e319-46b2-e152-33f7c60a1fe3"
      },
      "execution_count": null,
      "outputs": [
        {
          "execution_count": 8,
          "output_type": "execute_result",
          "data": {
            "text/plain": "(100000, 23)"
          },
          "metadata": {}
        }
      ]
    },
    {
      "cell_type": "code",
      "source": [
        "from sklearn.feature_extraction.text import CountVectorizer\n",
        "import numpy as np #Added import for numpy\n",
        "\n",
        "questions=list(ques_df['question1_lemmatized'])+list(ques_df['question2_lemmatized'])\n",
        "cv=CountVectorizer(max_features=3000)\n",
        "\n",
        "# Convert np.nan to empty strings\n",
        "questions = [str(q) if not pd.isna(q) else '' for q in questions]\n",
        "\n",
        "q1_arr,q2_arr=np.vsplit(cv.fit_transform(questions).toarray(),2)"
      ],
      "metadata": {
        "execution": {
          "iopub.status.busy": "2024-10-06T20:57:17.115438Z",
          "iopub.execute_input": "2024-10-06T20:57:17.115752Z",
          "iopub.status.idle": "2024-10-06T20:57:23.544404Z",
          "shell.execute_reply.started": "2024-10-06T20:57:17.115725Z",
          "shell.execute_reply": "2024-10-06T20:57:23.543459Z"
        },
        "trusted": true,
        "id": "vycdCtATWLkA"
      },
      "execution_count": null,
      "outputs": []
    },
    {
      "cell_type": "code",
      "source": [
        "temp_df1=pd.DataFrame(q1_arr,index=ques_df.index)\n",
        "temp_df2=pd.DataFrame(q2_arr,index=ques_df.index)\n",
        "temp_df=pd.concat([temp_df1,temp_df2],axis=1)\n",
        "temp_df.shape"
      ],
      "metadata": {
        "execution": {
          "iopub.status.busy": "2024-10-06T20:57:23.545725Z",
          "iopub.execute_input": "2024-10-06T20:57:23.546161Z",
          "iopub.status.idle": "2024-10-06T20:57:32.62631Z",
          "shell.execute_reply.started": "2024-10-06T20:57:23.546132Z",
          "shell.execute_reply": "2024-10-06T20:57:32.625569Z"
        },
        "trusted": true,
        "id": "COot8OP0WLkA",
        "outputId": "cea61609-14d4-4320-c46d-a23947516725"
      },
      "execution_count": null,
      "outputs": [
        {
          "execution_count": 10,
          "output_type": "execute_result",
          "data": {
            "text/plain": "(100000, 6000)"
          },
          "metadata": {}
        }
      ]
    },
    {
      "cell_type": "code",
      "source": [],
      "metadata": {
        "id": "tV0carLvWLkB"
      },
      "execution_count": null,
      "outputs": []
    },
    {
      "cell_type": "code",
      "source": [
        "final_df=pd.concat([final_df,temp_df],axis=1)\n",
        "print(final_df.shape)\n",
        "final_df.head()"
      ],
      "metadata": {
        "execution": {
          "iopub.status.busy": "2024-10-06T20:57:57.901452Z",
          "iopub.execute_input": "2024-10-06T20:57:57.902031Z",
          "iopub.status.idle": "2024-10-06T20:58:02.640974Z",
          "shell.execute_reply.started": "2024-10-06T20:57:57.901996Z",
          "shell.execute_reply": "2024-10-06T20:58:02.640262Z"
        },
        "trusted": true,
        "id": "F3SIkE9XWLkB",
        "outputId": "ca6a8735-3b03-4f6b-92d1-4f125fef613d"
      },
      "execution_count": null,
      "outputs": [
        {
          "name": "stdout",
          "text": "(100000, 6023)\n",
          "output_type": "stream"
        },
        {
          "execution_count": 11,
          "output_type": "execute_result",
          "data": {
            "text/plain": "   is_duplicate  q1_len  q2_len  q1_num_words  q2_num_words  word_common  \\\n0             1      61      72            11            14            6   \n1             0      45      39             8             6            3   \n2             0      21      24             5             5            4   \n3             1      50      62            12            12            8   \n4             0      45      89             8            16            3   \n\n   word_total  word_share   cwc_min   cwc_max  ...  2990  2991  2992  2993  \\\n0          25        0.24  0.428565  0.299997  ...     0     0     0     0   \n1          14        0.21  0.333322  0.333322  ...     0     0     0     0   \n2          10        0.40  0.999900  0.999900  ...     0     0     0     0   \n3          24        0.33  0.499992  0.428565  ...     0     0     0     0   \n4          24        0.12  0.749981  0.333330  ...     0     0     0     0   \n\n   2994  2995  2996  2997  2998  2999  \n0     0     0     0     0     0     0  \n1     0     0     0     0     0     0  \n2     0     0     0     0     0     0  \n3     0     0     0     0     0     0  \n4     0     0     0     0     0     0  \n\n[5 rows x 6023 columns]",
            "text/html": "<div>\n<style scoped>\n    .dataframe tbody tr th:only-of-type {\n        vertical-align: middle;\n    }\n\n    .dataframe tbody tr th {\n        vertical-align: top;\n    }\n\n    .dataframe thead th {\n        text-align: right;\n    }\n</style>\n<table border=\"1\" class=\"dataframe\">\n  <thead>\n    <tr style=\"text-align: right;\">\n      <th></th>\n      <th>is_duplicate</th>\n      <th>q1_len</th>\n      <th>q2_len</th>\n      <th>q1_num_words</th>\n      <th>q2_num_words</th>\n      <th>word_common</th>\n      <th>word_total</th>\n      <th>word_share</th>\n      <th>cwc_min</th>\n      <th>cwc_max</th>\n      <th>...</th>\n      <th>2990</th>\n      <th>2991</th>\n      <th>2992</th>\n      <th>2993</th>\n      <th>2994</th>\n      <th>2995</th>\n      <th>2996</th>\n      <th>2997</th>\n      <th>2998</th>\n      <th>2999</th>\n    </tr>\n  </thead>\n  <tbody>\n    <tr>\n      <th>0</th>\n      <td>1</td>\n      <td>61</td>\n      <td>72</td>\n      <td>11</td>\n      <td>14</td>\n      <td>6</td>\n      <td>25</td>\n      <td>0.24</td>\n      <td>0.428565</td>\n      <td>0.299997</td>\n      <td>...</td>\n      <td>0</td>\n      <td>0</td>\n      <td>0</td>\n      <td>0</td>\n      <td>0</td>\n      <td>0</td>\n      <td>0</td>\n      <td>0</td>\n      <td>0</td>\n      <td>0</td>\n    </tr>\n    <tr>\n      <th>1</th>\n      <td>0</td>\n      <td>45</td>\n      <td>39</td>\n      <td>8</td>\n      <td>6</td>\n      <td>3</td>\n      <td>14</td>\n      <td>0.21</td>\n      <td>0.333322</td>\n      <td>0.333322</td>\n      <td>...</td>\n      <td>0</td>\n      <td>0</td>\n      <td>0</td>\n      <td>0</td>\n      <td>0</td>\n      <td>0</td>\n      <td>0</td>\n      <td>0</td>\n      <td>0</td>\n      <td>0</td>\n    </tr>\n    <tr>\n      <th>2</th>\n      <td>0</td>\n      <td>21</td>\n      <td>24</td>\n      <td>5</td>\n      <td>5</td>\n      <td>4</td>\n      <td>10</td>\n      <td>0.40</td>\n      <td>0.999900</td>\n      <td>0.999900</td>\n      <td>...</td>\n      <td>0</td>\n      <td>0</td>\n      <td>0</td>\n      <td>0</td>\n      <td>0</td>\n      <td>0</td>\n      <td>0</td>\n      <td>0</td>\n      <td>0</td>\n      <td>0</td>\n    </tr>\n    <tr>\n      <th>3</th>\n      <td>1</td>\n      <td>50</td>\n      <td>62</td>\n      <td>12</td>\n      <td>12</td>\n      <td>8</td>\n      <td>24</td>\n      <td>0.33</td>\n      <td>0.499992</td>\n      <td>0.428565</td>\n      <td>...</td>\n      <td>0</td>\n      <td>0</td>\n      <td>0</td>\n      <td>0</td>\n      <td>0</td>\n      <td>0</td>\n      <td>0</td>\n      <td>0</td>\n      <td>0</td>\n      <td>0</td>\n    </tr>\n    <tr>\n      <th>4</th>\n      <td>0</td>\n      <td>45</td>\n      <td>89</td>\n      <td>8</td>\n      <td>16</td>\n      <td>3</td>\n      <td>24</td>\n      <td>0.12</td>\n      <td>0.749981</td>\n      <td>0.333330</td>\n      <td>...</td>\n      <td>0</td>\n      <td>0</td>\n      <td>0</td>\n      <td>0</td>\n      <td>0</td>\n      <td>0</td>\n      <td>0</td>\n      <td>0</td>\n      <td>0</td>\n      <td>0</td>\n    </tr>\n  </tbody>\n</table>\n<p>5 rows × 6023 columns</p>\n</div>"
          },
          "metadata": {}
        }
      ]
    },
    {
      "cell_type": "code",
      "source": [
        "from sklearn.model_selection import train_test_split\n",
        "X_train,X_test,y_train,y_test = train_test_split(final_df.iloc[:,1:].values,final_df.iloc[:,0].values,test_size=0.2,random_state=1)"
      ],
      "metadata": {
        "execution": {
          "iopub.status.busy": "2024-10-06T20:58:06.7863Z",
          "iopub.execute_input": "2024-10-06T20:58:06.787145Z",
          "iopub.status.idle": "2024-10-06T20:58:20.899247Z",
          "shell.execute_reply.started": "2024-10-06T20:58:06.787108Z",
          "shell.execute_reply": "2024-10-06T20:58:20.898377Z"
        },
        "trusted": true,
        "id": "bgw4gyn5WLkB"
      },
      "execution_count": null,
      "outputs": []
    },
    {
      "cell_type": "code",
      "source": [
        "X_train.columns = X_train.columns.astype(str)\n",
        "X_test.columns = X_test.columns.astype(str)"
      ],
      "metadata": {
        "execution": {
          "iopub.status.busy": "2024-10-06T09:47:19.255421Z",
          "iopub.execute_input": "2024-10-06T09:47:19.255868Z",
          "iopub.status.idle": "2024-10-06T09:47:19.690569Z",
          "shell.execute_reply.started": "2024-10-06T09:47:19.255823Z",
          "shell.execute_reply": "2024-10-06T09:47:19.688677Z"
        },
        "trusted": true,
        "id": "TgGEYUgUWLkC",
        "outputId": "fc8a91bf-542d-4242-84e7-32ab3f0d1bd7"
      },
      "execution_count": null,
      "outputs": [
        {
          "traceback": [
            "\u001b[0;31m---------------------------------------------------------------------------\u001b[0m",
            "\u001b[0;31mAttributeError\u001b[0m                            Traceback (most recent call last)",
            "Cell \u001b[0;32mIn[12], line 1\u001b[0m\n\u001b[0;32m----> 1\u001b[0m X_train\u001b[38;5;241m.\u001b[39mcolumns \u001b[38;5;241m=\u001b[39m \u001b[43mX_train\u001b[49m\u001b[38;5;241;43m.\u001b[39;49m\u001b[43mcolumns\u001b[49m\u001b[38;5;241m.\u001b[39mastype(\u001b[38;5;28mstr\u001b[39m)\n\u001b[1;32m      2\u001b[0m X_test\u001b[38;5;241m.\u001b[39mcolumns \u001b[38;5;241m=\u001b[39m X_test\u001b[38;5;241m.\u001b[39mcolumns\u001b[38;5;241m.\u001b[39mastype(\u001b[38;5;28mstr\u001b[39m)\n",
            "\u001b[0;31mAttributeError\u001b[0m: 'numpy.ndarray' object has no attribute 'columns'"
          ],
          "ename": "AttributeError",
          "evalue": "'numpy.ndarray' object has no attribute 'columns'",
          "output_type": "error"
        }
      ]
    },
    {
      "cell_type": "code",
      "source": [
        "X_train.size"
      ],
      "metadata": {
        "execution": {
          "iopub.status.busy": "2024-10-06T20:59:03.876318Z",
          "iopub.execute_input": "2024-10-06T20:59:03.876819Z",
          "iopub.status.idle": "2024-10-06T20:59:03.88199Z",
          "shell.execute_reply.started": "2024-10-06T20:59:03.876783Z",
          "shell.execute_reply": "2024-10-06T20:59:03.881273Z"
        },
        "trusted": true,
        "id": "OuxO1BpHWLkC",
        "outputId": "64c34d21-ea83-432c-cf0f-a9446a5cf0ac"
      },
      "execution_count": null,
      "outputs": [
        {
          "execution_count": 13,
          "output_type": "execute_result",
          "data": {
            "text/plain": "481760000"
          },
          "metadata": {}
        }
      ]
    },
    {
      "cell_type": "code",
      "source": [
        "y_train"
      ],
      "metadata": {
        "execution": {
          "iopub.status.busy": "2024-10-06T20:59:05.165932Z",
          "iopub.execute_input": "2024-10-06T20:59:05.166292Z",
          "iopub.status.idle": "2024-10-06T20:59:05.171151Z",
          "shell.execute_reply.started": "2024-10-06T20:59:05.16626Z",
          "shell.execute_reply": "2024-10-06T20:59:05.170626Z"
        },
        "trusted": true,
        "id": "ovg3oj7xWLkC",
        "outputId": "aa0121bc-d6be-4bb2-ab94-24f5e2aa1fc7"
      },
      "execution_count": null,
      "outputs": [
        {
          "execution_count": 14,
          "output_type": "execute_result",
          "data": {
            "text/plain": "array([0, 0, 0, ..., 1, 1, 1])"
          },
          "metadata": {}
        }
      ]
    },
    {
      "cell_type": "code",
      "source": [
        "from sklearn.ensemble import RandomForestClassifier\n",
        "from sklearn.metrics import accuracy_score\n",
        "rf=RandomForestClassifier()\n",
        "rf.fit(X_train, y_train)\n",
        "y_pred = rf.predict(X_test)\n",
        "print(accuracy_score(y_test, y_pred))\n"
      ],
      "metadata": {
        "execution": {
          "iopub.status.busy": "2024-10-06T20:59:09.156617Z",
          "iopub.execute_input": "2024-10-06T20:59:09.156988Z",
          "iopub.status.idle": "2024-10-06T21:02:09.493869Z",
          "shell.execute_reply.started": "2024-10-06T20:59:09.156956Z",
          "shell.execute_reply": "2024-10-06T21:02:09.493003Z"
        },
        "trusted": true,
        "id": "1JR9zoDAWLkD",
        "outputId": "02e4e537-6520-4f9d-979e-31f3b6af8d4f"
      },
      "execution_count": null,
      "outputs": [
        {
          "name": "stdout",
          "text": "0.7959\n",
          "output_type": "stream"
        }
      ]
    },
    {
      "cell_type": "code",
      "source": [
        "from sklearn.ensemble import RandomForestClassifier\n",
        "from sklearn.model_selection import RandomizedSearchCV, GridSearchCV\n",
        "\n",
        "# Define smaller parameter grid\n",
        "param_grid = {\n",
        "    'n_estimators': [50, 100, 150],              # Lower number of trees to reduce memory usage\n",
        "    'max_depth': [None, 10, 20, 30],             # Limit the depth of the trees\n",
        "    'min_samples_split': [2, 5, 10],             # Larger split reduces tree growth\n",
        "    'min_samples_leaf': [1, 2, 4],               # Limit number of leaf nodes\n",
        "    'max_features': ['sqrt', 'log2'],            # Use a subset of features\n",
        "    'bootstrap': [True, False],                  # Use bootstrapping or not\n",
        "}\n",
        "\n",
        "# Randomized Search with a limited number of iterations\n",
        "rf = RandomForestClassifier()\n",
        "random_search = RandomizedSearchCV(\n",
        "    estimator=rf,\n",
        "    param_distributions=param_grid,\n",
        "    n_iter=10,                # Limit iterations\n",
        "    cv=3,                     # 3-fold cross-validation\n",
        "    verbose=1,\n",
        "    n_jobs=-1                 # Parallelize computation if possible\n",
        ")\n",
        "\n",
        "random_search.fit(X_train, y_train)\n",
        "print(\"Best Parameters:\", random_search.best_params_)\n",
        "print(\"Best Score:\", random_search.best_score_)\n"
      ],
      "metadata": {
        "execution": {
          "iopub.status.busy": "2024-10-06T19:35:52.059816Z",
          "iopub.execute_input": "2024-10-06T19:35:52.060582Z",
          "iopub.status.idle": "2024-10-06T19:45:16.674002Z",
          "shell.execute_reply.started": "2024-10-06T19:35:52.060541Z",
          "shell.execute_reply": "2024-10-06T19:45:16.6728Z"
        },
        "trusted": true,
        "id": "glnYbx1GWLkD",
        "outputId": "2680b497-2808-4f9d-ac1d-fd467ab7fc32"
      },
      "execution_count": null,
      "outputs": [
        {
          "name": "stdout",
          "text": "Fitting 3 folds for each of 10 candidates, totalling 30 fits\nBest Parameters: {'n_estimators': 150, 'min_samples_split': 10, 'min_samples_leaf': 2, 'max_features': 'sqrt', 'max_depth': 30, 'bootstrap': False}\nBest Score: 0.771012504772251\n",
          "output_type": "stream"
        }
      ]
    },
    {
      "cell_type": "code",
      "source": [
        "from sklearn.svm import SVC\n",
        "from sklearn.model_selection import RandomizedSearchCV\n",
        "from sklearn.metrics import accuracy_score\n",
        "svm = SVC()\n",
        "svm.fit(X_train, y_train)\n",
        "\n",
        "# Predict on the test set\n",
        "y_pred_svm = svm.predict(X_test)\n",
        "\n"
      ],
      "metadata": {
        "execution": {
          "iopub.status.busy": "2024-10-06T20:48:00.236104Z",
          "iopub.execute_input": "2024-10-06T20:48:00.236486Z"
        },
        "trusted": true,
        "id": "8pb6DNHIWLkE"
      },
      "execution_count": null,
      "outputs": []
    },
    {
      "cell_type": "code",
      "source": [
        "import regex as re"
      ],
      "metadata": {
        "execution": {
          "iopub.status.busy": "2024-10-06T21:09:50.146743Z",
          "iopub.execute_input": "2024-10-06T21:09:50.147496Z",
          "iopub.status.idle": "2024-10-06T21:09:50.151296Z",
          "shell.execute_reply.started": "2024-10-06T21:09:50.147457Z",
          "shell.execute_reply": "2024-10-06T21:09:50.150657Z"
        },
        "trusted": true,
        "id": "NFNByoUSWLkE"
      },
      "execution_count": null,
      "outputs": []
    },
    {
      "cell_type": "code",
      "source": [
        "from bs4 import BeautifulSoup"
      ],
      "metadata": {
        "execution": {
          "iopub.status.busy": "2024-10-06T21:10:42.016339Z",
          "iopub.execute_input": "2024-10-06T21:10:42.017204Z",
          "iopub.status.idle": "2024-10-06T21:10:42.206358Z",
          "shell.execute_reply.started": "2024-10-06T21:10:42.017139Z",
          "shell.execute_reply": "2024-10-06T21:10:42.205551Z"
        },
        "trusted": true,
        "id": "UjJxQr1YWLkE"
      },
      "execution_count": null,
      "outputs": []
    },
    {
      "cell_type": "code",
      "source": [
        "def preprocess(q):\n",
        "\n",
        "    q = str(q).lower().strip()\n",
        "\n",
        "    # Replace certain special characters with their string equivalents\n",
        "    q = q.replace('%', ' percent')\n",
        "    q = q.replace('$', ' dollar ')\n",
        "    q = q.replace('₹', ' rupee ')\n",
        "    q = q.replace('€', ' euro ')\n",
        "    q = q.replace('@', ' at ')\n",
        "\n",
        "    # The pattern '[math]' appears around 900 times in the whole dataset.\n",
        "    q = q.replace('[math]', '')\n",
        "\n",
        "    # Replacing some numbers with string equivalents (not perfect, can be done better to account for more cases)\n",
        "    q = q.replace(',000,000,000 ', 'b ')\n",
        "    q = q.replace(',000,000 ', 'm ')\n",
        "    q = q.replace(',000 ', 'k ')\n",
        "    q = re.sub(r'([0-9]+)000000000', r'\\1b', q)\n",
        "    q = re.sub(r'([0-9]+)000000', r'\\1m', q)\n",
        "    q = re.sub(r'([0-9]+)000', r'\\1k', q)\n",
        "\n",
        "    # Decontracting words\n",
        "    # https://en.wikipedia.org/wiki/Wikipedia%3aList_of_English_contractions\n",
        "    # https://stackoverflow.com/a/19794953\n",
        "    contractions = {\n",
        "    \"ain't\": \"am not\",\n",
        "    \"aren't\": \"are not\",\n",
        "    \"can't\": \"can not\",\n",
        "    \"can't've\": \"can not have\",\n",
        "    \"'cause\": \"because\",\n",
        "    \"could've\": \"could have\",\n",
        "    \"couldn't\": \"could not\",\n",
        "    \"couldn't've\": \"could not have\",\n",
        "    \"didn't\": \"did not\",\n",
        "    \"doesn't\": \"does not\",\n",
        "    \"don't\": \"do not\",\n",
        "    \"hadn't\": \"had not\",\n",
        "    \"hadn't've\": \"had not have\",\n",
        "    \"hasn't\": \"has not\",\n",
        "    \"haven't\": \"have not\",\n",
        "    \"he'd\": \"he would\",\n",
        "    \"he'd've\": \"he would have\",\n",
        "    \"he'll\": \"he will\",\n",
        "    \"he'll've\": \"he will have\",\n",
        "    \"he's\": \"he is\",\n",
        "    \"how'd\": \"how did\",\n",
        "    \"how'd'y\": \"how do you\",\n",
        "    \"how'll\": \"how will\",\n",
        "    \"how's\": \"how is\",\n",
        "    \"i'd\": \"i would\",\n",
        "    \"i'd've\": \"i would have\",\n",
        "    \"i'll\": \"i will\",\n",
        "    \"i'll've\": \"i will have\",\n",
        "    \"i'm\": \"i am\",\n",
        "    \"i've\": \"i have\",\n",
        "    \"isn't\": \"is not\",\n",
        "    \"it'd\": \"it would\",\n",
        "    \"it'd've\": \"it would have\",\n",
        "    \"it'll\": \"it will\",\n",
        "    \"it'll've\": \"it will have\",\n",
        "    \"it's\": \"it is\",\n",
        "    \"let's\": \"let us\",\n",
        "    \"ma'am\": \"madam\",\n",
        "    \"mayn't\": \"may not\",\n",
        "    \"might've\": \"might have\",\n",
        "    \"mightn't\": \"might not\",\n",
        "    \"mightn't've\": \"might not have\",\n",
        "    \"must've\": \"must have\",\n",
        "    \"mustn't\": \"must not\",\n",
        "    \"mustn't've\": \"must not have\",\n",
        "    \"needn't\": \"need not\",\n",
        "    \"needn't've\": \"need not have\",\n",
        "    \"o'clock\": \"of the clock\",\n",
        "    \"oughtn't\": \"ought not\",\n",
        "    \"oughtn't've\": \"ought not have\",\n",
        "    \"shan't\": \"shall not\",\n",
        "    \"sha'n't\": \"shall not\",\n",
        "    \"shan't've\": \"shall not have\",\n",
        "    \"she'd\": \"she would\",\n",
        "    \"she'd've\": \"she would have\",\n",
        "    \"she'll\": \"she will\",\n",
        "    \"she'll've\": \"she will have\",\n",
        "    \"she's\": \"she is\",\n",
        "    \"should've\": \"should have\",\n",
        "    \"shouldn't\": \"should not\",\n",
        "    \"shouldn't've\": \"should not have\",\n",
        "    \"so've\": \"so have\",\n",
        "    \"so's\": \"so as\",\n",
        "    \"that'd\": \"that would\",\n",
        "    \"that'd've\": \"that would have\",\n",
        "    \"that's\": \"that is\",\n",
        "    \"there'd\": \"there would\",\n",
        "    \"there'd've\": \"there would have\",\n",
        "    \"there's\": \"there is\",\n",
        "    \"they'd\": \"they would\",\n",
        "    \"they'd've\": \"they would have\",\n",
        "    \"they'll\": \"they will\",\n",
        "    \"they'll've\": \"they will have\",\n",
        "    \"they're\": \"they are\",\n",
        "    \"they've\": \"they have\",\n",
        "    \"to've\": \"to have\",\n",
        "    \"wasn't\": \"was not\",\n",
        "    \"we'd\": \"we would\",\n",
        "    \"we'd've\": \"we would have\",\n",
        "    \"we'll\": \"we will\",\n",
        "    \"we'll've\": \"we will have\",\n",
        "    \"we're\": \"we are\",\n",
        "    \"we've\": \"we have\",\n",
        "    \"weren't\": \"were not\",\n",
        "    \"what'll\": \"what will\",\n",
        "    \"what'll've\": \"what will have\",\n",
        "    \"what're\": \"what are\",\n",
        "    \"what's\": \"what is\",\n",
        "    \"what've\": \"what have\",\n",
        "    \"when's\": \"when is\",\n",
        "    \"when've\": \"when have\",\n",
        "    \"where'd\": \"where did\",\n",
        "    \"where's\": \"where is\",\n",
        "    \"where've\": \"where have\",\n",
        "    \"who'll\": \"who will\",\n",
        "    \"who'll've\": \"who will have\",\n",
        "    \"who's\": \"who is\",\n",
        "    \"who've\": \"who have\",\n",
        "    \"why's\": \"why is\",\n",
        "    \"why've\": \"why have\",\n",
        "    \"will've\": \"will have\",\n",
        "    \"won't\": \"will not\",\n",
        "    \"won't've\": \"will not have\",\n",
        "    \"would've\": \"would have\",\n",
        "    \"wouldn't\": \"would not\",\n",
        "    \"wouldn't've\": \"would not have\",\n",
        "    \"y'all\": \"you all\",\n",
        "    \"y'all'd\": \"you all would\",\n",
        "    \"y'all'd've\": \"you all would have\",\n",
        "    \"y'all're\": \"you all are\",\n",
        "    \"y'all've\": \"you all have\",\n",
        "    \"you'd\": \"you would\",\n",
        "    \"you'd've\": \"you would have\",\n",
        "    \"you'll\": \"you will\",\n",
        "    \"you'll've\": \"you will have\",\n",
        "    \"you're\": \"you are\",\n",
        "    \"you've\": \"you have\"\n",
        "    }\n",
        "\n",
        "    q_decontracted = []\n",
        "\n",
        "    for word in q.split():\n",
        "        if word in contractions:\n",
        "            word = contractions[word]\n",
        "\n",
        "        q_decontracted.append(word)\n",
        "\n",
        "    q = ' '.join(q_decontracted)\n",
        "    q = q.replace(\"'ve\", \" have\")\n",
        "    q = q.replace(\"n't\", \" not\")\n",
        "    q = q.replace(\"'re\", \" are\")\n",
        "    q = q.replace(\"'ll\", \" will\")\n",
        "\n",
        "    # Removing HTML tags\n",
        "    q = BeautifulSoup(q)\n",
        "    q = q.get_text()\n",
        "\n",
        "    # Remove punctuations\n",
        "    pattern = re.compile('\\W')\n",
        "    q = re.sub(pattern, ' ', q).strip()\n",
        "\n",
        "\n",
        "    return q\n",
        ""
      ],
      "metadata": {
        "execution": {
          "iopub.status.busy": "2024-10-06T21:09:55.432319Z",
          "iopub.execute_input": "2024-10-06T21:09:55.432791Z",
          "iopub.status.idle": "2024-10-06T21:09:55.44987Z",
          "shell.execute_reply.started": "2024-10-06T21:09:55.432752Z",
          "shell.execute_reply": "2024-10-06T21:09:55.449053Z"
        },
        "trusted": true,
        "id": "ibrXo1OgWLkE"
      },
      "execution_count": null,
      "outputs": []
    },
    {
      "cell_type": "code",
      "source": [
        "def common_words(row):\n",
        "    w1 = set(map(lambda word: word.lower().strip(), row['question1'].split(\" \")))\n",
        "    w2 = set(map(lambda word: word.lower().strip(), row['question2'].split(\" \")))\n",
        "    return len(w1 & w2)"
      ],
      "metadata": {
        "execution": {
          "iopub.status.busy": "2024-10-06T21:02:56.098115Z",
          "iopub.execute_input": "2024-10-06T21:02:56.09844Z",
          "iopub.status.idle": "2024-10-06T21:02:56.10318Z",
          "shell.execute_reply.started": "2024-10-06T21:02:56.098413Z",
          "shell.execute_reply": "2024-10-06T21:02:56.102429Z"
        },
        "trusted": true,
        "id": "Ndo5IXbTWLkF"
      },
      "execution_count": null,
      "outputs": []
    },
    {
      "cell_type": "code",
      "source": [
        "def total_words(row):\n",
        "    w1 = set(map(lambda word: word.lower().strip(), row['question1'].split(\" \")))\n",
        "    w2 = set(map(lambda word: word.lower().strip(), row['question2'].split(\" \")))\n",
        "    return (len(w1) + len(w2))"
      ],
      "metadata": {
        "execution": {
          "iopub.status.busy": "2024-10-06T21:03:13.671698Z",
          "iopub.execute_input": "2024-10-06T21:03:13.672453Z",
          "iopub.status.idle": "2024-10-06T21:03:13.676819Z",
          "shell.execute_reply.started": "2024-10-06T21:03:13.67242Z",
          "shell.execute_reply": "2024-10-06T21:03:13.676173Z"
        },
        "trusted": true,
        "id": "8qBI1lJ2WLkF"
      },
      "execution_count": null,
      "outputs": []
    },
    {
      "cell_type": "code",
      "source": [
        "pip install nltk"
      ],
      "metadata": {
        "execution": {
          "iopub.status.busy": "2024-10-06T21:03:50.00702Z",
          "iopub.execute_input": "2024-10-06T21:03:50.007518Z",
          "iopub.status.idle": "2024-10-06T21:03:55.964657Z",
          "shell.execute_reply.started": "2024-10-06T21:03:50.007473Z",
          "shell.execute_reply": "2024-10-06T21:03:55.963768Z"
        },
        "trusted": true,
        "id": "_gB2XxmcWLkG",
        "outputId": "ad620a29-ff3d-4c3e-e0bd-417d396977bd"
      },
      "execution_count": null,
      "outputs": [
        {
          "name": "stdout",
          "text": "Collecting nltk\n  Downloading nltk-3.9.1-py3-none-any.whl (1.5 MB)\n\u001b[2K     \u001b[90m━━━━━━━━━━━━━━━━━━━━━━━━━━━━━━━━━━━━━━━━\u001b[0m \u001b[32m1.5/1.5 MB\u001b[0m \u001b[31m17.3 MB/s\u001b[0m eta \u001b[36m0:00:00\u001b[0m00:01\u001b[0m0:01\u001b[0m\n\u001b[?25hRequirement already satisfied: click in /usr/local/lib/python3.10/site-packages (from nltk) (8.1.7)\nRequirement already satisfied: joblib in /usr/local/lib/python3.10/site-packages (from nltk) (1.4.2)\nRequirement already satisfied: tqdm in /usr/local/lib/python3.10/site-packages (from nltk) (4.66.5)\nRequirement already satisfied: regex>=2021.8.3 in /usr/local/lib/python3.10/site-packages (from nltk) (2024.9.11)\nInstalling collected packages: nltk\nSuccessfully installed nltk-3.9.1\n\u001b[33mWARNING: Running pip as the 'root' user can result in broken permissions and conflicting behaviour with the system package manager. It is recommended to use a virtual environment instead: https://pip.pypa.io/warnings/venv\u001b[0m\u001b[33m\n\u001b[0m\n\u001b[1m[\u001b[0m\u001b[34;49mnotice\u001b[0m\u001b[1;39;49m]\u001b[0m\u001b[39;49m A new release of pip is available: \u001b[0m\u001b[31;49m23.0.1\u001b[0m\u001b[39;49m -> \u001b[0m\u001b[32;49m24.2\u001b[0m\n\u001b[1m[\u001b[0m\u001b[34;49mnotice\u001b[0m\u001b[1;39;49m]\u001b[0m\u001b[39;49m To update, run: \u001b[0m\u001b[32;49mpip install --upgrade pip\u001b[0m\nNote: you may need to restart the kernel to use updated packages.\n",
          "output_type": "stream"
        }
      ]
    },
    {
      "cell_type": "code",
      "source": [
        "from nltk.corpus import stopwords\n",
        "\n",
        "def fetch_token_features(row):\n",
        "\n",
        "    q1 = row['question1']\n",
        "    q2 = row['question2']\n",
        "\n",
        "    SAFE_DIV = 0.0001\n",
        "\n",
        "    STOP_WORDS = stopwords.words(\"english\")\n",
        "\n",
        "    token_features = [0.0]*8\n",
        "\n",
        "    # Converting the Sentence into Tokens:\n",
        "    q1_tokens = q1.split()\n",
        "    q2_tokens = q2.split()\n",
        "\n",
        "    if len(q1_tokens) == 0 or len(q2_tokens) == 0:\n",
        "        return token_features\n",
        "\n",
        "    # Get the non-stopwords in Questions\n",
        "    q1_words = set([word for word in q1_tokens if word not in STOP_WORDS])\n",
        "    q2_words = set([word for word in q2_tokens if word not in STOP_WORDS])\n",
        "\n",
        "    #Get the stopwords in Questions\n",
        "    q1_stops = set([word for word in q1_tokens if word in STOP_WORDS])\n",
        "    q2_stops = set([word for word in q2_tokens if word in STOP_WORDS])\n",
        "\n",
        "    # Get the common non-stopwords from Question pair\n",
        "    common_word_count = len(q1_words.intersection(q2_words))\n",
        "\n",
        "    # Get the common stopwords from Question pair\n",
        "    common_stop_count = len(q1_stops.intersection(q2_stops))\n",
        "\n",
        "    # Get the common Tokens from Question pair\n",
        "    common_token_count = len(set(q1_tokens).intersection(set(q2_tokens)))\n",
        "\n",
        "\n",
        "    token_features[0] = common_word_count / (min(len(q1_words), len(q2_words)) + SAFE_DIV)\n",
        "    token_features[1] = common_word_count / (max(len(q1_words), len(q2_words)) + SAFE_DIV)\n",
        "    token_features[2] = common_stop_count / (min(len(q1_stops), len(q2_stops)) + SAFE_DIV)\n",
        "    token_features[3] = common_stop_count / (max(len(q1_stops), len(q2_stops)) + SAFE_DIV)\n",
        "    token_features[4] = common_token_count / (min(len(q1_tokens), len(q2_tokens)) + SAFE_DIV)\n",
        "    token_features[5] = common_token_count / (max(len(q1_tokens), len(q2_tokens)) + SAFE_DIV)\n",
        "\n",
        "    # Last word of both question is same or not\n",
        "    token_features[6] = int(q1_tokens[-1] == q2_tokens[-1])\n",
        "\n",
        "    # First word of both question is same or not\n",
        "    token_features[7] = int(q1_tokens[0] == q2_tokens[0])\n",
        "\n",
        "    return token_features"
      ],
      "metadata": {
        "execution": {
          "iopub.status.busy": "2024-10-06T21:03:58.896323Z",
          "iopub.execute_input": "2024-10-06T21:03:58.897332Z",
          "iopub.status.idle": "2024-10-06T21:03:59.330661Z",
          "shell.execute_reply.started": "2024-10-06T21:03:58.897287Z",
          "shell.execute_reply": "2024-10-06T21:03:59.329888Z"
        },
        "trusted": true,
        "id": "L2P1LIJ2WLkG"
      },
      "execution_count": null,
      "outputs": []
    },
    {
      "cell_type": "code",
      "source": [
        "token_features = new_df.apply(fetch_token_features, axis=1)\n",
        "\n",
        "new_df[\"cwc_min\"]       = list(map(lambda x: x[0], token_features))\n",
        "new_df[\"cwc_max\"]       = list(map(lambda x: x[1], token_features))\n",
        "new_df[\"csc_min\"]       = list(map(lambda x: x[2], token_features))\n",
        "new_df[\"csc_max\"]       = list(map(lambda x: x[3], token_features))\n",
        "new_df[\"ctc_min\"]       = list(map(lambda x: x[4], token_features))\n",
        "new_df[\"ctc_max\"]       = list(map(lambda x: x[5], token_features))\n",
        "new_df[\"last_word_eq\"]  = list(map(lambda x: x[6], token_features))\n",
        "new_df[\"first_word_eq\"] = list(map(lambda x: x[7], token_features))"
      ],
      "metadata": {
        "id": "9cKGmgqNWLkG"
      },
      "execution_count": null,
      "outputs": []
    },
    {
      "cell_type": "code",
      "source": [
        "pip install distance"
      ],
      "metadata": {
        "execution": {
          "iopub.status.busy": "2024-10-06T21:05:27.406737Z",
          "iopub.execute_input": "2024-10-06T21:05:27.407483Z",
          "iopub.status.idle": "2024-10-06T21:05:32.521853Z",
          "shell.execute_reply.started": "2024-10-06T21:05:27.407449Z",
          "shell.execute_reply": "2024-10-06T21:05:32.520932Z"
        },
        "trusted": true,
        "id": "D6arv2OzWLkG",
        "outputId": "62580ec9-5939-4b49-b4d8-5c702bdd876e"
      },
      "execution_count": null,
      "outputs": [
        {
          "name": "stdout",
          "text": "Collecting distance\n  Downloading Distance-0.1.3.tar.gz (180 kB)\n\u001b[2K     \u001b[90m━━━━━━━━━━━━━━━━━━━━━━━━━━━━━━━━━━━━━━━\u001b[0m \u001b[32m180.3/180.3 kB\u001b[0m \u001b[31m4.4 MB/s\u001b[0m eta \u001b[36m0:00:00\u001b[0ma \u001b[36m0:00:01\u001b[0m\n\u001b[?25h  Preparing metadata (setup.py) ... \u001b[?25ldone\n\u001b[?25hBuilding wheels for collected packages: distance\n  Building wheel for distance (setup.py) ... \u001b[?25ldone\n\u001b[?25h  Created wheel for distance: filename=Distance-0.1.3-py3-none-any.whl size=16258 sha256=63fc16d7d21b688a87f82f0aef4aafcb1f72a84f126269c80b8e6a98e8b667be\n  Stored in directory: /root/.cache/pip/wheels/e8/bb/de/f71bf63559ea9a921059a5405806f7ff6ed612a9231c4a9309\nSuccessfully built distance\nInstalling collected packages: distance\nSuccessfully installed distance-0.1.3\n\u001b[33mWARNING: Running pip as the 'root' user can result in broken permissions and conflicting behaviour with the system package manager. It is recommended to use a virtual environment instead: https://pip.pypa.io/warnings/venv\u001b[0m\u001b[33m\n\u001b[0m\n\u001b[1m[\u001b[0m\u001b[34;49mnotice\u001b[0m\u001b[1;39;49m]\u001b[0m\u001b[39;49m A new release of pip is available: \u001b[0m\u001b[31;49m23.0.1\u001b[0m\u001b[39;49m -> \u001b[0m\u001b[32;49m24.2\u001b[0m\n\u001b[1m[\u001b[0m\u001b[34;49mnotice\u001b[0m\u001b[1;39;49m]\u001b[0m\u001b[39;49m To update, run: \u001b[0m\u001b[32;49mpip install --upgrade pip\u001b[0m\nNote: you may need to restart the kernel to use updated packages.\n",
          "output_type": "stream"
        }
      ]
    },
    {
      "cell_type": "code",
      "source": [
        "import distance\n",
        "\n",
        "def fetch_length_features(row):\n",
        "\n",
        "    q1 = row['question1']\n",
        "    q2 = row['question2']\n",
        "\n",
        "    length_features = [0.0]*3\n",
        "\n",
        "    # Converting the Sentence into Tokens:\n",
        "    q1_tokens = q1.split()\n",
        "    q2_tokens = q2.split()\n",
        "\n",
        "    if len(q1_tokens) == 0 or len(q2_tokens) == 0:\n",
        "        return length_features\n",
        "\n",
        "    # Absolute length features\n",
        "    length_features[0] = abs(len(q1_tokens) - len(q2_tokens))\n",
        "\n",
        "    #Average Token Length of both Questions\n",
        "    length_features[1] = (len(q1_tokens) + len(q2_tokens))/2\n",
        "\n",
        "    strs = list(distance.lcsubstrings(q1, q2))\n",
        "    length_features[2] = len(strs[0]) / (min(len(q1), len(q2)) + 1)\n",
        "\n",
        "    return length_features"
      ],
      "metadata": {
        "execution": {
          "iopub.status.busy": "2024-10-06T21:05:32.523583Z",
          "iopub.execute_input": "2024-10-06T21:05:32.524247Z",
          "iopub.status.idle": "2024-10-06T21:05:32.533193Z",
          "shell.execute_reply.started": "2024-10-06T21:05:32.524213Z",
          "shell.execute_reply": "2024-10-06T21:05:32.532511Z"
        },
        "trusted": true,
        "id": "gcE1bzVCWLkG"
      },
      "execution_count": null,
      "outputs": []
    },
    {
      "cell_type": "code",
      "source": [
        "pip install fuzzywuzzy"
      ],
      "metadata": {
        "execution": {
          "iopub.status.busy": "2024-10-06T21:06:00.92692Z",
          "iopub.execute_input": "2024-10-06T21:06:00.927701Z",
          "iopub.status.idle": "2024-10-06T21:06:04.750437Z",
          "shell.execute_reply.started": "2024-10-06T21:06:00.927632Z",
          "shell.execute_reply": "2024-10-06T21:06:04.749335Z"
        },
        "trusted": true,
        "id": "H4B-rcH1WLkH",
        "outputId": "5a2dfcbc-ca67-4770-a635-952295c4b327"
      },
      "execution_count": null,
      "outputs": [
        {
          "name": "stdout",
          "text": "Collecting fuzzywuzzy\n  Downloading fuzzywuzzy-0.18.0-py2.py3-none-any.whl (18 kB)\nInstalling collected packages: fuzzywuzzy\nSuccessfully installed fuzzywuzzy-0.18.0\n\u001b[33mWARNING: Running pip as the 'root' user can result in broken permissions and conflicting behaviour with the system package manager. It is recommended to use a virtual environment instead: https://pip.pypa.io/warnings/venv\u001b[0m\u001b[33m\n\u001b[0m\n\u001b[1m[\u001b[0m\u001b[34;49mnotice\u001b[0m\u001b[1;39;49m]\u001b[0m\u001b[39;49m A new release of pip is available: \u001b[0m\u001b[31;49m23.0.1\u001b[0m\u001b[39;49m -> \u001b[0m\u001b[32;49m24.2\u001b[0m\n\u001b[1m[\u001b[0m\u001b[34;49mnotice\u001b[0m\u001b[1;39;49m]\u001b[0m\u001b[39;49m To update, run: \u001b[0m\u001b[32;49mpip install --upgrade pip\u001b[0m\nNote: you may need to restart the kernel to use updated packages.\n",
          "output_type": "stream"
        }
      ]
    },
    {
      "cell_type": "code",
      "source": [
        "# Fuzzy Features\n",
        "from fuzzywuzzy import fuzz\n",
        "\n",
        "def fetch_fuzzy_features(row):\n",
        "\n",
        "    q1 = row['question1']\n",
        "    q2 = row['question2']\n",
        "\n",
        "    fuzzy_features = [0.0]*4\n",
        "\n",
        "    # fuzz_ratio\n",
        "    fuzzy_features[0] = fuzz.QRatio(q1, q2)\n",
        "\n",
        "    # fuzz_partial_ratio\n",
        "    fuzzy_features[1] = fuzz.partial_ratio(q1, q2)\n",
        "\n",
        "    # token_sort_ratio\n",
        "    fuzzy_features[2] = fuzz.token_sort_ratio(q1, q2)\n",
        "\n",
        "    # token_set_ratio\n",
        "    fuzzy_features[3] = fuzz.token_set_ratio(q1, q2)\n",
        "\n",
        "    return fuzzy_features"
      ],
      "metadata": {
        "execution": {
          "iopub.status.busy": "2024-10-06T21:06:07.406541Z",
          "iopub.execute_input": "2024-10-06T21:06:07.407519Z",
          "iopub.status.idle": "2024-10-06T21:06:07.417035Z",
          "shell.execute_reply.started": "2024-10-06T21:06:07.407478Z",
          "shell.execute_reply": "2024-10-06T21:06:07.416306Z"
        },
        "trusted": true,
        "id": "aABcTVvmWLkH",
        "outputId": "ad28d715-d593-4f16-993b-a0a2b68a3998"
      },
      "execution_count": null,
      "outputs": [
        {
          "name": "stderr",
          "text": "/usr/local/lib/python3.10/site-packages/fuzzywuzzy/fuzz.py:11: UserWarning: Using slow pure-python SequenceMatcher. Install python-Levenshtein to remove this warning\n  warnings.warn('Using slow pure-python SequenceMatcher. Install python-Levenshtein to remove this warning')\n",
          "output_type": "stream"
        }
      ]
    },
    {
      "cell_type": "code",
      "source": [
        "def test_common_words(q1,q2):\n",
        "    w1 = set(map(lambda word: word.lower().strip(), q1.split(\" \")))\n",
        "    w2 = set(map(lambda word: word.lower().strip(), q2.split(\" \")))\n",
        "    return len(w1 & w2)"
      ],
      "metadata": {
        "execution": {
          "iopub.status.busy": "2024-10-06T21:06:57.001549Z",
          "iopub.execute_input": "2024-10-06T21:06:57.002472Z",
          "iopub.status.idle": "2024-10-06T21:06:57.006815Z",
          "shell.execute_reply.started": "2024-10-06T21:06:57.002432Z",
          "shell.execute_reply": "2024-10-06T21:06:57.006132Z"
        },
        "trusted": true,
        "id": "XSsrahUHWLkH"
      },
      "execution_count": null,
      "outputs": []
    },
    {
      "cell_type": "code",
      "source": [
        "def test_total_words(q1,q2):\n",
        "    w1 = set(map(lambda word: word.lower().strip(), q1.split(\" \")))\n",
        "    w2 = set(map(lambda word: word.lower().strip(), q2.split(\" \")))\n",
        "    return (len(w1) + len(w2))"
      ],
      "metadata": {
        "execution": {
          "iopub.status.busy": "2024-10-06T21:07:10.4114Z",
          "iopub.execute_input": "2024-10-06T21:07:10.411763Z",
          "iopub.status.idle": "2024-10-06T21:07:10.416823Z",
          "shell.execute_reply.started": "2024-10-06T21:07:10.411734Z",
          "shell.execute_reply": "2024-10-06T21:07:10.416136Z"
        },
        "trusted": true,
        "id": "KEqfPfW8WLkI"
      },
      "execution_count": null,
      "outputs": []
    },
    {
      "cell_type": "code",
      "source": [
        "def test_fetch_token_features(q1,q2):\n",
        "\n",
        "    SAFE_DIV = 0.0001\n",
        "\n",
        "    STOP_WORDS = stopwords.words(\"english\")\n",
        "\n",
        "    token_features = [0.0]*8\n",
        "\n",
        "    # Converting the Sentence into Tokens:\n",
        "    q1_tokens = q1.split()\n",
        "    q2_tokens = q2.split()\n",
        "\n",
        "    if len(q1_tokens) == 0 or len(q2_tokens) == 0:\n",
        "        return token_features\n",
        "\n",
        "    # Get the non-stopwords in Questions\n",
        "    q1_words = set([word for word in q1_tokens if word not in STOP_WORDS])\n",
        "    q2_words = set([word for word in q2_tokens if word not in STOP_WORDS])\n",
        "\n",
        "    #Get the stopwords in Questions\n",
        "    q1_stops = set([word for word in q1_tokens if word in STOP_WORDS])\n",
        "    q2_stops = set([word for word in q2_tokens if word in STOP_WORDS])\n",
        "\n",
        "    # Get the common non-stopwords from Question pair\n",
        "    common_word_count = len(q1_words.intersection(q2_words))\n",
        "\n",
        "    # Get the common stopwords from Question pair\n",
        "    common_stop_count = len(q1_stops.intersection(q2_stops))\n",
        "\n",
        "    # Get the common Tokens from Question pair\n",
        "    common_token_count = len(set(q1_tokens).intersection(set(q2_tokens)))\n",
        "\n",
        "\n",
        "    token_features[0] = common_word_count / (min(len(q1_words), len(q2_words)) + SAFE_DIV)\n",
        "    token_features[1] = common_word_count / (max(len(q1_words), len(q2_words)) + SAFE_DIV)\n",
        "    token_features[2] = common_stop_count / (min(len(q1_stops), len(q2_stops)) + SAFE_DIV)\n",
        "    token_features[3] = common_stop_count / (max(len(q1_stops), len(q2_stops)) + SAFE_DIV)\n",
        "    token_features[4] = common_token_count / (min(len(q1_tokens), len(q2_tokens)) + SAFE_DIV)\n",
        "    token_features[5] = common_token_count / (max(len(q1_tokens), len(q2_tokens)) + SAFE_DIV)\n",
        "\n",
        "    # Last word of both question is same or not\n",
        "    token_features[6] = int(q1_tokens[-1] == q2_tokens[-1])\n",
        "\n",
        "    # First word of both question is same or not\n",
        "    token_features[7] = int(q1_tokens[0] == q2_tokens[0])\n",
        "\n",
        "    return token_features"
      ],
      "metadata": {
        "execution": {
          "iopub.status.busy": "2024-10-06T21:07:26.741042Z",
          "iopub.execute_input": "2024-10-06T21:07:26.74144Z",
          "iopub.status.idle": "2024-10-06T21:07:26.751574Z",
          "shell.execute_reply.started": "2024-10-06T21:07:26.741404Z",
          "shell.execute_reply": "2024-10-06T21:07:26.750835Z"
        },
        "trusted": true,
        "id": "0zWIsKrZWLkI"
      },
      "execution_count": null,
      "outputs": []
    },
    {
      "cell_type": "code",
      "source": [
        "def test_fetch_length_features(q1,q2):\n",
        "\n",
        "    length_features = [0.0]*3\n",
        "\n",
        "    # Converting the Sentence into Tokens:\n",
        "    q1_tokens = q1.split()\n",
        "    q2_tokens = q2.split()\n",
        "\n",
        "    if len(q1_tokens) == 0 or len(q2_tokens) == 0:\n",
        "        return length_features\n",
        "\n",
        "    # Absolute length features\n",
        "    length_features[0] = abs(len(q1_tokens) - len(q2_tokens))\n",
        "\n",
        "    #Average Token Length of both Questions\n",
        "    length_features[1] = (len(q1_tokens) + len(q2_tokens))/2\n",
        "\n",
        "    strs = list(distance.lcsubstrings(q1, q2))\n",
        "    length_features[2] = len(strs[0]) / (min(len(q1), len(q2)) + 1)\n",
        "\n",
        "    return length_features"
      ],
      "metadata": {
        "execution": {
          "iopub.status.busy": "2024-10-06T21:07:43.121544Z",
          "iopub.execute_input": "2024-10-06T21:07:43.121903Z",
          "iopub.status.idle": "2024-10-06T21:07:43.127479Z",
          "shell.execute_reply.started": "2024-10-06T21:07:43.121876Z",
          "shell.execute_reply": "2024-10-06T21:07:43.126737Z"
        },
        "trusted": true,
        "id": "ByJFc-KIWLkJ"
      },
      "execution_count": null,
      "outputs": []
    },
    {
      "cell_type": "code",
      "source": [
        "def test_fetch_fuzzy_features(q1,q2):\n",
        "\n",
        "    fuzzy_features = [0.0]*4\n",
        "\n",
        "    # fuzz_ratio\n",
        "    fuzzy_features[0] = fuzz.QRatio(q1, q2)\n",
        "\n",
        "    # fuzz_partial_ratio\n",
        "    fuzzy_features[1] = fuzz.partial_ratio(q1, q2)\n",
        "\n",
        "    # token_sort_ratio\n",
        "    fuzzy_features[2] = fuzz.token_sort_ratio(q1, q2)\n",
        "\n",
        "    # token_set_ratio\n",
        "    fuzzy_features[3] = fuzz.token_set_ratio(q1, q2)\n",
        "\n",
        "    return fuzzy_features"
      ],
      "metadata": {
        "execution": {
          "iopub.status.busy": "2024-10-06T21:07:58.870737Z",
          "iopub.execute_input": "2024-10-06T21:07:58.871668Z",
          "iopub.status.idle": "2024-10-06T21:07:58.875908Z",
          "shell.execute_reply.started": "2024-10-06T21:07:58.87163Z",
          "shell.execute_reply": "2024-10-06T21:07:58.87526Z"
        },
        "trusted": true,
        "id": "N9UUngn3WLkJ"
      },
      "execution_count": null,
      "outputs": []
    },
    {
      "cell_type": "code",
      "source": [
        "def query_point_creator(q1,q2):\n",
        "\n",
        "    input_query = []\n",
        "\n",
        "    # preprocess\n",
        "    q1 = preprocess(q1)\n",
        "    q2 = preprocess(q2)\n",
        "\n",
        "    # fetch basic features\n",
        "    input_query.append(len(q1))\n",
        "    input_query.append(len(q2))\n",
        "\n",
        "    input_query.append(len(q1.split(\" \")))\n",
        "    input_query.append(len(q2.split(\" \")))\n",
        "\n",
        "    input_query.append(test_common_words(q1,q2))\n",
        "    input_query.append(test_total_words(q1,q2))\n",
        "    input_query.append(round(test_common_words(q1,q2)/test_total_words(q1,q2),2))\n",
        "\n",
        "    # fetch token features\n",
        "    token_features = test_fetch_token_features(q1,q2)\n",
        "    input_query.extend(token_features)\n",
        "\n",
        "    # fetch length based features\n",
        "    length_features = test_fetch_length_features(q1,q2)\n",
        "    input_query.extend(length_features)\n",
        "\n",
        "    # fetch fuzzy features\n",
        "    fuzzy_features = test_fetch_fuzzy_features(q1,q2)\n",
        "    input_query.extend(fuzzy_features)\n",
        "\n",
        "    # bow feature for q1\n",
        "    q1_bow = cv.transform([q1]).toarray()\n",
        "\n",
        "    # bow feature for q2\n",
        "    q2_bow = cv.transform([q2]).toarray()\n",
        "\n",
        "\n",
        "\n",
        "    return np.hstack((np.array(input_query).reshape(1,22),q1_bow,q2_bow))"
      ],
      "metadata": {
        "execution": {
          "iopub.status.busy": "2024-10-06T21:10:54.876356Z",
          "iopub.execute_input": "2024-10-06T21:10:54.876834Z",
          "iopub.status.idle": "2024-10-06T21:10:54.977609Z",
          "shell.execute_reply.started": "2024-10-06T21:10:54.876801Z",
          "shell.execute_reply": "2024-10-06T21:10:54.97678Z"
        },
        "trusted": true,
        "id": "8133_FyjWLkJ"
      },
      "execution_count": null,
      "outputs": []
    },
    {
      "cell_type": "code",
      "source": [
        "q1 = 'Where is the capital of India?'\n",
        "q2 = 'What is the current capital of Pakistan?'\n",
        "q3 = 'Which city serves as the capital of India?'\n",
        "q4 = 'What is the business capital of India?'"
      ],
      "metadata": {
        "execution": {
          "iopub.status.busy": "2024-10-06T21:08:31.610659Z",
          "iopub.execute_input": "2024-10-06T21:08:31.611046Z",
          "iopub.status.idle": "2024-10-06T21:08:31.614928Z",
          "shell.execute_reply.started": "2024-10-06T21:08:31.611015Z",
          "shell.execute_reply": "2024-10-06T21:08:31.614332Z"
        },
        "trusted": true,
        "id": "bjFzHxoSWLkK"
      },
      "execution_count": null,
      "outputs": []
    },
    {
      "cell_type": "code",
      "source": [
        "stacking_classifier.predict(query_point_creator(q1,q3))"
      ],
      "metadata": {
        "execution": {
          "iopub.status.busy": "2024-10-06T21:33:46.826883Z",
          "iopub.execute_input": "2024-10-06T21:33:46.827757Z",
          "iopub.status.idle": "2024-10-06T21:33:46.884693Z",
          "shell.execute_reply.started": "2024-10-06T21:33:46.827693Z",
          "shell.execute_reply": "2024-10-06T21:33:46.883667Z"
        },
        "trusted": true,
        "id": "aiGfTIbkWLkK",
        "outputId": "e65cceef-a8c6-4245-b107-cabf47bb0a3f"
      },
      "execution_count": null,
      "outputs": [
        {
          "execution_count": 54,
          "output_type": "execute_result",
          "data": {
            "text/plain": "array([1])"
          },
          "metadata": {}
        }
      ]
    },
    {
      "cell_type": "code",
      "source": [
        "prediction_probabilities = stacking_classifier.predict_proba(query_point_creator(q1, q4))\n",
        "fuzzy_prediction = prediction_probabilities[:, 1]  # Probabilities for the positive class (range 0-1)\n",
        "print(fuzzy_prediction)\n"
      ],
      "metadata": {
        "execution": {
          "iopub.status.busy": "2024-10-06T21:35:35.102265Z",
          "iopub.execute_input": "2024-10-06T21:35:35.103425Z",
          "iopub.status.idle": "2024-10-06T21:35:35.179474Z",
          "shell.execute_reply.started": "2024-10-06T21:35:35.103383Z",
          "shell.execute_reply": "2024-10-06T21:35:35.178475Z"
        },
        "trusted": true,
        "id": "5HRjvHoGWLkK",
        "outputId": "214981b0-1423-405b-d8ce-fb0db4a8925a"
      },
      "execution_count": null,
      "outputs": [
        {
          "name": "stdout",
          "text": "[0.46106903]\n",
          "output_type": "stream"
        }
      ]
    },
    {
      "cell_type": "code",
      "source": [
        "import numpy as np\n",
        "\n",
        "# Example of a trapezoidal fuzzy membership function\n",
        "def fuzzy_membership_trapezoidal(x, a, b, c, d):\n",
        "    \"\"\" Trapezoidal membership function with four parameters: a, b, c, d. \"\"\"\n",
        "    return np.maximum(np.minimum((x - a) / (b - a), 1, (d - x) / (d - c)), 0)\n",
        "\n",
        "# Make predictions and apply fuzzy logic\n",
        "def fuzzy_prediction(q1, q3, stacking_classifier):\n",
        "    # Get the predicted probabilities from the classifier\n",
        "    prediction_probabilities = stacking_classifier.predict_proba(query_point_creator(q1, q4))\n",
        "\n",
        "    # Probability for class 1 (similarity) for each query point\n",
        "    prob_class_1 = prediction_probabilities[:, 1]\n",
        "\n",
        "    # Apply fuzzy logic: using a trapezoidal membership function\n",
        "    # You can adjust the values of a, b, c, and d based on your use case\n",
        "    fuzzy_output = fuzzy_membership_trapezoidal(prob_class_1, 0.3, 0.4, 0.6, 0.7)\n",
        "\n",
        "    return fuzzy_output\n",
        "\n",
        "# Call the fuzzy prediction\n",
        "fuzzy_result = fuzzy_prediction(q1, q4, stacking_classifier)\n",
        "print(fuzzy_result)\n"
      ],
      "metadata": {
        "execution": {
          "iopub.status.busy": "2024-10-06T21:36:51.70142Z",
          "iopub.execute_input": "2024-10-06T21:36:51.702353Z",
          "iopub.status.idle": "2024-10-06T21:36:51.762921Z",
          "shell.execute_reply.started": "2024-10-06T21:36:51.702305Z",
          "shell.execute_reply": "2024-10-06T21:36:51.762002Z"
        },
        "trusted": true,
        "id": "DNkJBD_tWLkK",
        "outputId": "9e049e9c-f7c0-44a9-fde8-74662432dae0"
      },
      "execution_count": null,
      "outputs": [
        {
          "name": "stdout",
          "text": "[1.]\n",
          "output_type": "stream"
        }
      ]
    },
    {
      "cell_type": "code",
      "source": [
        "import pickle\n",
        "\n",
        "pickle.dump(rf,open('model2.pkl','wb'))"
      ],
      "metadata": {
        "execution": {
          "iopub.status.busy": "2024-10-06T21:49:59.18677Z",
          "iopub.execute_input": "2024-10-06T21:49:59.187154Z",
          "iopub.status.idle": "2024-10-06T21:50:00.144853Z",
          "shell.execute_reply.started": "2024-10-06T21:49:59.187124Z",
          "shell.execute_reply": "2024-10-06T21:50:00.143923Z"
        },
        "trusted": true,
        "id": "ZOOpu8siWLkL"
      },
      "execution_count": null,
      "outputs": []
    },
    {
      "cell_type": "code",
      "source": [
        "cv"
      ],
      "metadata": {
        "execution": {
          "iopub.status.busy": "2024-10-06T21:38:03.552101Z",
          "iopub.execute_input": "2024-10-06T21:38:03.553103Z",
          "iopub.status.idle": "2024-10-06T21:38:03.563019Z",
          "shell.execute_reply.started": "2024-10-06T21:38:03.553062Z",
          "shell.execute_reply": "2024-10-06T21:38:03.562229Z"
        },
        "trusted": true,
        "id": "8aDcEOeeWLkL",
        "outputId": "aa92e9ad-8396-4a54-c3af-dde3519d47a8"
      },
      "execution_count": null,
      "outputs": [
        {
          "execution_count": 60,
          "output_type": "execute_result",
          "data": {
            "text/plain": "CountVectorizer(max_features=3000)",
            "text/html": "<style>#sk-container-id-1 {\n  /* Definition of color scheme common for light and dark mode */\n  --sklearn-color-text: black;\n  --sklearn-color-line: gray;\n  /* Definition of color scheme for unfitted estimators */\n  --sklearn-color-unfitted-level-0: #fff5e6;\n  --sklearn-color-unfitted-level-1: #f6e4d2;\n  --sklearn-color-unfitted-level-2: #ffe0b3;\n  --sklearn-color-unfitted-level-3: chocolate;\n  /* Definition of color scheme for fitted estimators */\n  --sklearn-color-fitted-level-0: #f0f8ff;\n  --sklearn-color-fitted-level-1: #d4ebff;\n  --sklearn-color-fitted-level-2: #b3dbfd;\n  --sklearn-color-fitted-level-3: cornflowerblue;\n\n  /* Specific color for light theme */\n  --sklearn-color-text-on-default-background: var(--sg-text-color, var(--theme-code-foreground, var(--jp-content-font-color1, black)));\n  --sklearn-color-background: var(--sg-background-color, var(--theme-background, var(--jp-layout-color0, white)));\n  --sklearn-color-border-box: var(--sg-text-color, var(--theme-code-foreground, var(--jp-content-font-color1, black)));\n  --sklearn-color-icon: #696969;\n\n  @media (prefers-color-scheme: dark) {\n    /* Redefinition of color scheme for dark theme */\n    --sklearn-color-text-on-default-background: var(--sg-text-color, var(--theme-code-foreground, var(--jp-content-font-color1, white)));\n    --sklearn-color-background: var(--sg-background-color, var(--theme-background, var(--jp-layout-color0, #111)));\n    --sklearn-color-border-box: var(--sg-text-color, var(--theme-code-foreground, var(--jp-content-font-color1, white)));\n    --sklearn-color-icon: #878787;\n  }\n}\n\n#sk-container-id-1 {\n  color: var(--sklearn-color-text);\n}\n\n#sk-container-id-1 pre {\n  padding: 0;\n}\n\n#sk-container-id-1 input.sk-hidden--visually {\n  border: 0;\n  clip: rect(1px 1px 1px 1px);\n  clip: rect(1px, 1px, 1px, 1px);\n  height: 1px;\n  margin: -1px;\n  overflow: hidden;\n  padding: 0;\n  position: absolute;\n  width: 1px;\n}\n\n#sk-container-id-1 div.sk-dashed-wrapped {\n  border: 1px dashed var(--sklearn-color-line);\n  margin: 0 0.4em 0.5em 0.4em;\n  box-sizing: border-box;\n  padding-bottom: 0.4em;\n  background-color: var(--sklearn-color-background);\n}\n\n#sk-container-id-1 div.sk-container {\n  /* jupyter's `normalize.less` sets `[hidden] { display: none; }`\n     but bootstrap.min.css set `[hidden] { display: none !important; }`\n     so we also need the `!important` here to be able to override the\n     default hidden behavior on the sphinx rendered scikit-learn.org.\n     See: https://github.com/scikit-learn/scikit-learn/issues/21755 */\n  display: inline-block !important;\n  position: relative;\n}\n\n#sk-container-id-1 div.sk-text-repr-fallback {\n  display: none;\n}\n\ndiv.sk-parallel-item,\ndiv.sk-serial,\ndiv.sk-item {\n  /* draw centered vertical line to link estimators */\n  background-image: linear-gradient(var(--sklearn-color-text-on-default-background), var(--sklearn-color-text-on-default-background));\n  background-size: 2px 100%;\n  background-repeat: no-repeat;\n  background-position: center center;\n}\n\n/* Parallel-specific style estimator block */\n\n#sk-container-id-1 div.sk-parallel-item::after {\n  content: \"\";\n  width: 100%;\n  border-bottom: 2px solid var(--sklearn-color-text-on-default-background);\n  flex-grow: 1;\n}\n\n#sk-container-id-1 div.sk-parallel {\n  display: flex;\n  align-items: stretch;\n  justify-content: center;\n  background-color: var(--sklearn-color-background);\n  position: relative;\n}\n\n#sk-container-id-1 div.sk-parallel-item {\n  display: flex;\n  flex-direction: column;\n}\n\n#sk-container-id-1 div.sk-parallel-item:first-child::after {\n  align-self: flex-end;\n  width: 50%;\n}\n\n#sk-container-id-1 div.sk-parallel-item:last-child::after {\n  align-self: flex-start;\n  width: 50%;\n}\n\n#sk-container-id-1 div.sk-parallel-item:only-child::after {\n  width: 0;\n}\n\n/* Serial-specific style estimator block */\n\n#sk-container-id-1 div.sk-serial {\n  display: flex;\n  flex-direction: column;\n  align-items: center;\n  background-color: var(--sklearn-color-background);\n  padding-right: 1em;\n  padding-left: 1em;\n}\n\n\n/* Toggleable style: style used for estimator/Pipeline/ColumnTransformer box that is\nclickable and can be expanded/collapsed.\n- Pipeline and ColumnTransformer use this feature and define the default style\n- Estimators will overwrite some part of the style using the `sk-estimator` class\n*/\n\n/* Pipeline and ColumnTransformer style (default) */\n\n#sk-container-id-1 div.sk-toggleable {\n  /* Default theme specific background. It is overwritten whether we have a\n  specific estimator or a Pipeline/ColumnTransformer */\n  background-color: var(--sklearn-color-background);\n}\n\n/* Toggleable label */\n#sk-container-id-1 label.sk-toggleable__label {\n  cursor: pointer;\n  display: block;\n  width: 100%;\n  margin-bottom: 0;\n  padding: 0.5em;\n  box-sizing: border-box;\n  text-align: center;\n}\n\n#sk-container-id-1 label.sk-toggleable__label-arrow:before {\n  /* Arrow on the left of the label */\n  content: \"▸\";\n  float: left;\n  margin-right: 0.25em;\n  color: var(--sklearn-color-icon);\n}\n\n#sk-container-id-1 label.sk-toggleable__label-arrow:hover:before {\n  color: var(--sklearn-color-text);\n}\n\n/* Toggleable content - dropdown */\n\n#sk-container-id-1 div.sk-toggleable__content {\n  max-height: 0;\n  max-width: 0;\n  overflow: hidden;\n  text-align: left;\n  /* unfitted */\n  background-color: var(--sklearn-color-unfitted-level-0);\n}\n\n#sk-container-id-1 div.sk-toggleable__content.fitted {\n  /* fitted */\n  background-color: var(--sklearn-color-fitted-level-0);\n}\n\n#sk-container-id-1 div.sk-toggleable__content pre {\n  margin: 0.2em;\n  border-radius: 0.25em;\n  color: var(--sklearn-color-text);\n  /* unfitted */\n  background-color: var(--sklearn-color-unfitted-level-0);\n}\n\n#sk-container-id-1 div.sk-toggleable__content.fitted pre {\n  /* unfitted */\n  background-color: var(--sklearn-color-fitted-level-0);\n}\n\n#sk-container-id-1 input.sk-toggleable__control:checked~div.sk-toggleable__content {\n  /* Expand drop-down */\n  max-height: 200px;\n  max-width: 100%;\n  overflow: auto;\n}\n\n#sk-container-id-1 input.sk-toggleable__control:checked~label.sk-toggleable__label-arrow:before {\n  content: \"▾\";\n}\n\n/* Pipeline/ColumnTransformer-specific style */\n\n#sk-container-id-1 div.sk-label input.sk-toggleable__control:checked~label.sk-toggleable__label {\n  color: var(--sklearn-color-text);\n  background-color: var(--sklearn-color-unfitted-level-2);\n}\n\n#sk-container-id-1 div.sk-label.fitted input.sk-toggleable__control:checked~label.sk-toggleable__label {\n  background-color: var(--sklearn-color-fitted-level-2);\n}\n\n/* Estimator-specific style */\n\n/* Colorize estimator box */\n#sk-container-id-1 div.sk-estimator input.sk-toggleable__control:checked~label.sk-toggleable__label {\n  /* unfitted */\n  background-color: var(--sklearn-color-unfitted-level-2);\n}\n\n#sk-container-id-1 div.sk-estimator.fitted input.sk-toggleable__control:checked~label.sk-toggleable__label {\n  /* fitted */\n  background-color: var(--sklearn-color-fitted-level-2);\n}\n\n#sk-container-id-1 div.sk-label label.sk-toggleable__label,\n#sk-container-id-1 div.sk-label label {\n  /* The background is the default theme color */\n  color: var(--sklearn-color-text-on-default-background);\n}\n\n/* On hover, darken the color of the background */\n#sk-container-id-1 div.sk-label:hover label.sk-toggleable__label {\n  color: var(--sklearn-color-text);\n  background-color: var(--sklearn-color-unfitted-level-2);\n}\n\n/* Label box, darken color on hover, fitted */\n#sk-container-id-1 div.sk-label.fitted:hover label.sk-toggleable__label.fitted {\n  color: var(--sklearn-color-text);\n  background-color: var(--sklearn-color-fitted-level-2);\n}\n\n/* Estimator label */\n\n#sk-container-id-1 div.sk-label label {\n  font-family: monospace;\n  font-weight: bold;\n  display: inline-block;\n  line-height: 1.2em;\n}\n\n#sk-container-id-1 div.sk-label-container {\n  text-align: center;\n}\n\n/* Estimator-specific */\n#sk-container-id-1 div.sk-estimator {\n  font-family: monospace;\n  border: 1px dotted var(--sklearn-color-border-box);\n  border-radius: 0.25em;\n  box-sizing: border-box;\n  margin-bottom: 0.5em;\n  /* unfitted */\n  background-color: var(--sklearn-color-unfitted-level-0);\n}\n\n#sk-container-id-1 div.sk-estimator.fitted {\n  /* fitted */\n  background-color: var(--sklearn-color-fitted-level-0);\n}\n\n/* on hover */\n#sk-container-id-1 div.sk-estimator:hover {\n  /* unfitted */\n  background-color: var(--sklearn-color-unfitted-level-2);\n}\n\n#sk-container-id-1 div.sk-estimator.fitted:hover {\n  /* fitted */\n  background-color: var(--sklearn-color-fitted-level-2);\n}\n\n/* Specification for estimator info (e.g. \"i\" and \"?\") */\n\n/* Common style for \"i\" and \"?\" */\n\n.sk-estimator-doc-link,\na:link.sk-estimator-doc-link,\na:visited.sk-estimator-doc-link {\n  float: right;\n  font-size: smaller;\n  line-height: 1em;\n  font-family: monospace;\n  background-color: var(--sklearn-color-background);\n  border-radius: 1em;\n  height: 1em;\n  width: 1em;\n  text-decoration: none !important;\n  margin-left: 1ex;\n  /* unfitted */\n  border: var(--sklearn-color-unfitted-level-1) 1pt solid;\n  color: var(--sklearn-color-unfitted-level-1);\n}\n\n.sk-estimator-doc-link.fitted,\na:link.sk-estimator-doc-link.fitted,\na:visited.sk-estimator-doc-link.fitted {\n  /* fitted */\n  border: var(--sklearn-color-fitted-level-1) 1pt solid;\n  color: var(--sklearn-color-fitted-level-1);\n}\n\n/* On hover */\ndiv.sk-estimator:hover .sk-estimator-doc-link:hover,\n.sk-estimator-doc-link:hover,\ndiv.sk-label-container:hover .sk-estimator-doc-link:hover,\n.sk-estimator-doc-link:hover {\n  /* unfitted */\n  background-color: var(--sklearn-color-unfitted-level-3);\n  color: var(--sklearn-color-background);\n  text-decoration: none;\n}\n\ndiv.sk-estimator.fitted:hover .sk-estimator-doc-link.fitted:hover,\n.sk-estimator-doc-link.fitted:hover,\ndiv.sk-label-container:hover .sk-estimator-doc-link.fitted:hover,\n.sk-estimator-doc-link.fitted:hover {\n  /* fitted */\n  background-color: var(--sklearn-color-fitted-level-3);\n  color: var(--sklearn-color-background);\n  text-decoration: none;\n}\n\n/* Span, style for the box shown on hovering the info icon */\n.sk-estimator-doc-link span {\n  display: none;\n  z-index: 9999;\n  position: relative;\n  font-weight: normal;\n  right: .2ex;\n  padding: .5ex;\n  margin: .5ex;\n  width: min-content;\n  min-width: 20ex;\n  max-width: 50ex;\n  color: var(--sklearn-color-text);\n  box-shadow: 2pt 2pt 4pt #999;\n  /* unfitted */\n  background: var(--sklearn-color-unfitted-level-0);\n  border: .5pt solid var(--sklearn-color-unfitted-level-3);\n}\n\n.sk-estimator-doc-link.fitted span {\n  /* fitted */\n  background: var(--sklearn-color-fitted-level-0);\n  border: var(--sklearn-color-fitted-level-3);\n}\n\n.sk-estimator-doc-link:hover span {\n  display: block;\n}\n\n/* \"?\"-specific style due to the `<a>` HTML tag */\n\n#sk-container-id-1 a.estimator_doc_link {\n  float: right;\n  font-size: 1rem;\n  line-height: 1em;\n  font-family: monospace;\n  background-color: var(--sklearn-color-background);\n  border-radius: 1rem;\n  height: 1rem;\n  width: 1rem;\n  text-decoration: none;\n  /* unfitted */\n  color: var(--sklearn-color-unfitted-level-1);\n  border: var(--sklearn-color-unfitted-level-1) 1pt solid;\n}\n\n#sk-container-id-1 a.estimator_doc_link.fitted {\n  /* fitted */\n  border: var(--sklearn-color-fitted-level-1) 1pt solid;\n  color: var(--sklearn-color-fitted-level-1);\n}\n\n/* On hover */\n#sk-container-id-1 a.estimator_doc_link:hover {\n  /* unfitted */\n  background-color: var(--sklearn-color-unfitted-level-3);\n  color: var(--sklearn-color-background);\n  text-decoration: none;\n}\n\n#sk-container-id-1 a.estimator_doc_link.fitted:hover {\n  /* fitted */\n  background-color: var(--sklearn-color-fitted-level-3);\n}\n</style><div id=\"sk-container-id-1\" class=\"sk-top-container\"><div class=\"sk-text-repr-fallback\"><pre>CountVectorizer(max_features=3000)</pre><b>In a Jupyter environment, please rerun this cell to show the HTML representation or trust the notebook. <br />On GitHub, the HTML representation is unable to render, please try loading this page with nbviewer.org.</b></div><div class=\"sk-container\" hidden><div class=\"sk-item\"><div class=\"sk-estimator fitted sk-toggleable\"><input class=\"sk-toggleable__control sk-hidden--visually\" id=\"sk-estimator-id-1\" type=\"checkbox\" checked><label for=\"sk-estimator-id-1\" class=\"sk-toggleable__label fitted sk-toggleable__label-arrow fitted\">&nbsp;&nbsp;CountVectorizer<a class=\"sk-estimator-doc-link fitted\" rel=\"noreferrer\" target=\"_blank\" href=\"https://scikit-learn.org/1.5/modules/generated/sklearn.feature_extraction.text.CountVectorizer.html\">?<span>Documentation for CountVectorizer</span></a><span class=\"sk-estimator-doc-link fitted\">i<span>Fitted</span></span></label><div class=\"sk-toggleable__content fitted\"><pre>CountVectorizer(max_features=3000)</pre></div> </div></div></div></div>"
          },
          "metadata": {}
        }
      ]
    },
    {
      "cell_type": "code",
      "source": [],
      "metadata": {
        "id": "io-1-ZDoWLkL"
      },
      "execution_count": null,
      "outputs": []
    },
    {
      "cell_type": "code",
      "source": [
        "import nltk\n",
        "nltk.download('stopwords')"
      ],
      "metadata": {
        "execution": {
          "iopub.status.busy": "2024-10-06T21:11:24.646764Z",
          "iopub.execute_input": "2024-10-06T21:11:24.647142Z",
          "iopub.status.idle": "2024-10-06T21:11:24.837744Z",
          "shell.execute_reply.started": "2024-10-06T21:11:24.647111Z",
          "shell.execute_reply": "2024-10-06T21:11:24.83688Z"
        },
        "trusted": true,
        "id": "hBzlPGK3WLkL",
        "outputId": "1351c077-8b6e-4130-c9a8-a61ec899fa22"
      },
      "execution_count": null,
      "outputs": [
        {
          "name": "stderr",
          "text": "[nltk_data] Downloading package stopwords to /root/nltk_data...\n[nltk_data]   Unzipping corpora/stopwords.zip.\n",
          "output_type": "stream"
        },
        {
          "execution_count": 42,
          "output_type": "execute_result",
          "data": {
            "text/plain": "True"
          },
          "metadata": {}
        }
      ]
    },
    {
      "cell_type": "code",
      "source": [
        "import matplotlib.pyplot as plt\n",
        "import seaborn as sns\n",
        "y_pred = rf.predict(X_test)\n",
        "\n",
        "# Generate and print the confusion matrix\n",
        "cm = confusion_matrix(y_test, y_pred)\n",
        "print(\"Confusion Matrix:\")\n",
        "print(cm)\n",
        "\n",
        "# Plot the confusion matrix with Seaborn\n",
        "plt.figure(figsize=(8, 6))\n",
        "sns.heatmap(cm, annot=True, fmt='d', cmap='Blues',\n",
        "            xticklabels=['Not Duplicate', 'Duplicate'],\n",
        "            yticklabels=['Not Duplicate', 'Duplicate'])\n",
        "plt.xlabel('Predicted')\n",
        "plt.ylabel('Actual')\n",
        "plt.title('Confusion Matrix')\n",
        "plt.show()\n",
        "\n",
        "# Print the classification report\n",
        "print(\"\\nClassification Report:\")\n",
        "print(classification_report(y_test, y_pred))"
      ],
      "metadata": {
        "execution": {
          "iopub.status.busy": "2024-10-06T21:38:52.367294Z",
          "iopub.execute_input": "2024-10-06T21:38:52.367693Z",
          "iopub.status.idle": "2024-10-06T21:38:54.569027Z",
          "shell.execute_reply.started": "2024-10-06T21:38:52.367661Z",
          "shell.execute_reply": "2024-10-06T21:38:54.568219Z"
        },
        "trusted": true,
        "id": "hSBxMqmCWLkL",
        "outputId": "fcce4812-a629-4e5e-8dc1-f0718fc1e21e"
      },
      "execution_count": null,
      "outputs": [
        {
          "name": "stdout",
          "text": "Confusion Matrix:\n[[10897  1617]\n [ 2465  5021]]\n",
          "output_type": "stream"
        },
        {
          "output_type": "display_data",
          "data": {
            "text/plain": "<Figure size 800x600 with 2 Axes>",
            "image/png": "[encoded data removed]"
          },
          "metadata": {}
        },
        {
          "name": "stdout",
          "text": "\nClassification Report:\n              precision    recall  f1-score   support\n\n           0       0.82      0.87      0.84     12514\n           1       0.76      0.67      0.71      7486\n\n    accuracy                           0.80     20000\n   macro avg       0.79      0.77      0.78     20000\nweighted avg       0.79      0.80      0.79     20000\n\n",
          "output_type": "stream"
        }
      ]
    },
    {
      "cell_type": "code",
      "source": [
        "pip install lightgbm"
      ],
      "metadata": {
        "execution": {
          "iopub.status.busy": "2024-10-06T21:14:15.785694Z",
          "iopub.execute_input": "2024-10-06T21:14:15.785956Z",
          "iopub.status.idle": "2024-10-06T21:14:20.91292Z",
          "shell.execute_reply.started": "2024-10-06T21:14:15.785931Z",
          "shell.execute_reply": "2024-10-06T21:14:20.911877Z"
        },
        "trusted": true,
        "id": "m5MMNVtrWLkM",
        "outputId": "9168edcd-412e-4bff-de83-6adf576892bb"
      },
      "execution_count": null,
      "outputs": [
        {
          "name": "stdout",
          "text": "Collecting lightgbm\n  Downloading lightgbm-4.5.0-py3-none-manylinux_2_28_x86_64.whl (3.6 MB)\n\u001b[2K     \u001b[90m━━━━━━━━━━━━━━━━━━━━━━━━━━━━━━━━━━━━━━━━\u001b[0m \u001b[32m3.6/3.6 MB\u001b[0m \u001b[31m4.0 MB/s\u001b[0m eta \u001b[36m0:00:00\u001b[0m:00:01\u001b[0m00:01\u001b[0m\n\u001b[?25hRequirement already satisfied: numpy>=1.17.0 in /usr/local/lib/python3.10/site-packages (from lightgbm) (1.26.4)\nRequirement already satisfied: scipy in /usr/local/lib/python3.10/site-packages (from lightgbm) (1.14.1)\nInstalling collected packages: lightgbm\nSuccessfully installed lightgbm-4.5.0\n\u001b[33mWARNING: Running pip as the 'root' user can result in broken permissions and conflicting behaviour with the system package manager. It is recommended to use a virtual environment instead: https://pip.pypa.io/warnings/venv\u001b[0m\u001b[33m\n\u001b[0m\n\u001b[1m[\u001b[0m\u001b[34;49mnotice\u001b[0m\u001b[1;39;49m]\u001b[0m\u001b[39;49m A new release of pip is available: \u001b[0m\u001b[31;49m23.0.1\u001b[0m\u001b[39;49m -> \u001b[0m\u001b[32;49m24.2\u001b[0m\n\u001b[1m[\u001b[0m\u001b[34;49mnotice\u001b[0m\u001b[1;39;49m]\u001b[0m\u001b[39;49m To update, run: \u001b[0m\u001b[32;49mpip install --upgrade pip\u001b[0m\nNote: you may need to restart the kernel to use updated packages.\n",
          "output_type": "stream"
        }
      ]
    },
    {
      "cell_type": "code",
      "source": [
        "import lightgbm as lgb"
      ],
      "metadata": {
        "execution": {
          "iopub.status.busy": "2024-10-06T21:14:20.914629Z",
          "iopub.execute_input": "2024-10-06T21:14:20.914938Z",
          "iopub.status.idle": "2024-10-06T21:14:21.369799Z",
          "shell.execute_reply.started": "2024-10-06T21:14:20.914908Z",
          "shell.execute_reply": "2024-10-06T21:14:21.369028Z"
        },
        "trusted": true,
        "id": "_iFUs6kkWLkM"
      },
      "execution_count": null,
      "outputs": []
    },
    {
      "cell_type": "code",
      "source": [
        "model = lgb.LGBMClassifier()\n",
        "model.fit(X_train, y_train)\n",
        "\n",
        "# Make predictions on the test set\n",
        "y_pred = model.predict(X_test)\n",
        "\n",
        "# Generate and print the confusion matrix\n",
        "cm = confusion_matrix(y_test, y_pred)\n",
        "print(\"Confusion Matrix:\")\n",
        "print(cm)\n",
        "\n",
        "# Plot the confusion matrix with Seaborn\n",
        "plt.figure(figsize=(8, 6))\n",
        "sns.heatmap(cm, annot=True, fmt='d', cmap='Blues',\n",
        "            xticklabels=['Not Duplicate', 'Duplicate'],\n",
        "            yticklabels=['Not Duplicate', 'Duplicate'])\n",
        "plt.xlabel('Predicted')\n",
        "plt.ylabel('Actual')\n",
        "plt.title('Confusion Matrix')\n",
        "plt.show()\n",
        "\n",
        "# Print the classification report\n",
        "print(\"\\nClassification Report:\")\n",
        "print(classification_report(y_test, y_pred))\n"
      ],
      "metadata": {
        "execution": {
          "iopub.status.busy": "2024-10-06T18:49:41.390192Z",
          "iopub.execute_input": "2024-10-06T18:49:41.391365Z",
          "iopub.status.idle": "2024-10-06T18:49:45.314856Z",
          "shell.execute_reply.started": "2024-10-06T18:49:41.391319Z",
          "shell.execute_reply": "2024-10-06T18:49:45.314156Z"
        },
        "trusted": true,
        "id": "oDfg2HGXWLkM",
        "outputId": "4f9ea089-a97b-4a3b-82c4-24b58d4c1b99"
      },
      "execution_count": null,
      "outputs": [
        {
          "name": "stdout",
          "text": "[LightGBM] [Info] Number of positive: 29616, number of negative: 50384\n[LightGBM] [Info] Auto-choosing col-wise multi-threading, the overhead of testing was 0.212238 seconds.\nYou can set `force_col_wise=true` to remove the overhead.\n[LightGBM] [Info] Total Bins 19267\n[LightGBM] [Info] Number of data points in the train set: 80000, number of used features: 5923\n[LightGBM] [Info] [binary:BoostFromScore]: pavg=0.370200 -> initscore=-0.531359\n[LightGBM] [Info] Start training from score -0.531359\nConfusion Matrix:\n[[10734  1780]\n [ 2271  5215]]\n",
          "output_type": "stream"
        },
        {
          "output_type": "display_data",
          "data": {
            "text/plain": "<Figure size 800x600 with 2 Axes>",
            "image/png": "[encoded data removed]"
          },
          "metadata": {}
        },
        {
          "name": "stdout",
          "text": "\nClassification Report:\n              precision    recall  f1-score   support\n\n           0       0.83      0.86      0.84     12514\n           1       0.75      0.70      0.72      7486\n\n    accuracy                           0.80     20000\n   macro avg       0.79      0.78      0.78     20000\nweighted avg       0.80      0.80      0.80     20000\n\n",
          "output_type": "stream"
        }
      ]
    },
    {
      "cell_type": "code",
      "source": [
        "pip install xgboost"
      ],
      "metadata": {
        "execution": {
          "iopub.status.busy": "2024-10-06T21:14:04.54572Z",
          "iopub.execute_input": "2024-10-06T21:14:04.546057Z",
          "iopub.status.idle": "2024-10-06T21:14:14.152685Z",
          "shell.execute_reply.started": "2024-10-06T21:14:04.546031Z",
          "shell.execute_reply": "2024-10-06T21:14:14.15174Z"
        },
        "trusted": true,
        "id": "0n8app6vWLkN",
        "outputId": "7694a575-f214-4cf1-aab2-a747fbbcfa78"
      },
      "execution_count": null,
      "outputs": [
        {
          "name": "stdout",
          "text": "Collecting xgboost\n  Downloading xgboost-2.1.1-py3-none-manylinux_2_28_x86_64.whl (153.9 MB)\n\u001b[2K     \u001b[90m━━━━━━━━━━━━━━━━━━━━━━━━━━━━━━━━━━━━━━━\u001b[0m \u001b[32m153.9/153.9 MB\u001b[0m \u001b[31m5.4 MB/s\u001b[0m eta \u001b[36m0:00:00\u001b[0m00:01\u001b[0m00:01\u001b[0m\n\u001b[?25hRequirement already satisfied: scipy in /usr/local/lib/python3.10/site-packages (from xgboost) (1.14.1)\nRequirement already satisfied: nvidia-nccl-cu12 in /usr/local/lib/python3.10/site-packages (from xgboost) (2.20.5)\nRequirement already satisfied: numpy in /usr/local/lib/python3.10/site-packages (from xgboost) (1.26.4)\nInstalling collected packages: xgboost\nSuccessfully installed xgboost-2.1.1\n\u001b[33mWARNING: Running pip as the 'root' user can result in broken permissions and conflicting behaviour with the system package manager. It is recommended to use a virtual environment instead: https://pip.pypa.io/warnings/venv\u001b[0m\u001b[33m\n\u001b[0m\n\u001b[1m[\u001b[0m\u001b[34;49mnotice\u001b[0m\u001b[1;39;49m]\u001b[0m\u001b[39;49m A new release of pip is available: \u001b[0m\u001b[31;49m23.0.1\u001b[0m\u001b[39;49m -> \u001b[0m\u001b[32;49m24.2\u001b[0m\n\u001b[1m[\u001b[0m\u001b[34;49mnotice\u001b[0m\u001b[1;39;49m]\u001b[0m\u001b[39;49m To update, run: \u001b[0m\u001b[32;49mpip install --upgrade pip\u001b[0m\nNote: you may need to restart the kernel to use updated packages.\n",
          "output_type": "stream"
        }
      ]
    },
    {
      "cell_type": "code",
      "source": [
        "\n",
        "from xgboost import XGBClassifier"
      ],
      "metadata": {
        "execution": {
          "iopub.status.busy": "2024-10-06T21:14:14.154362Z",
          "iopub.execute_input": "2024-10-06T21:14:14.154661Z",
          "iopub.status.idle": "2024-10-06T21:14:15.327872Z",
          "shell.execute_reply.started": "2024-10-06T21:14:14.15463Z",
          "shell.execute_reply": "2024-10-06T21:14:15.327163Z"
        },
        "trusted": true,
        "id": "lGvcjQ3vWLkN"
      },
      "execution_count": null,
      "outputs": []
    },
    {
      "cell_type": "code",
      "source": [
        "model = XGBClassifier()\n",
        "model.fit(X_train, y_train)\n",
        "\n",
        "# Make predictions on the test set\n",
        "y_pred = model.predict(X_test)\n",
        "\n",
        "# Generate and print the confusion matrix\n",
        "cm = confusion_matrix(y_test, y_pred)\n",
        "print(\"Confusion Matrix:\")\n",
        "print(cm)\n",
        "\n",
        "# Plot the confusion matrix with Seaborn\n",
        "plt.figure(figsize=(8, 6))\n",
        "sns.heatmap(cm, annot=True, fmt='d', cmap='Blues',\n",
        "            xticklabels=['Not Duplicate', 'Duplicate'],\n",
        "            yticklabels=['Not Duplicate', 'Duplicate'])\n",
        "plt.xlabel('Predicted')\n",
        "plt.ylabel('Actual')\n",
        "plt.title('Confusion Matrix')\n",
        "plt.show()\n",
        "\n",
        "# Print the classification report\n",
        "print(\"\\nClassification Report:\")\n",
        "print(classification_report(y_test, y_pred))"
      ],
      "metadata": {
        "execution": {
          "iopub.status.busy": "2024-10-06T18:50:53.970966Z",
          "iopub.execute_input": "2024-10-06T18:50:53.971826Z",
          "iopub.status.idle": "2024-10-06T18:51:03.665359Z",
          "shell.execute_reply.started": "2024-10-06T18:50:53.971792Z",
          "shell.execute_reply": "2024-10-06T18:51:03.664504Z"
        },
        "trusted": true,
        "id": "U1gEwxKXWLkN",
        "outputId": "fdac5739-3d5c-41c7-827f-17f72c3a5887"
      },
      "execution_count": null,
      "outputs": [
        {
          "name": "stdout",
          "text": "Confusion Matrix:\n[[10785  1729]\n [ 2403  5083]]\n",
          "output_type": "stream"
        },
        {
          "output_type": "display_data",
          "data": {
            "text/plain": "<Figure size 800x600 with 2 Axes>",
            "image/png": "[encoded data removed]"
          },
          "metadata": {}
        },
        {
          "name": "stdout",
          "text": "\nClassification Report:\n              precision    recall  f1-score   support\n\n           0       0.82      0.86      0.84     12514\n           1       0.75      0.68      0.71      7486\n\n    accuracy                           0.79     20000\n   macro avg       0.78      0.77      0.78     20000\nweighted avg       0.79      0.79      0.79     20000\n\n",
          "output_type": "stream"
        }
      ]
    },
    {
      "cell_type": "code",
      "source": [],
      "metadata": {
        "id": "f49AyQF5WLkN"
      },
      "execution_count": null,
      "outputs": []
    },
    {
      "cell_type": "code",
      "source": [
        "from sklearn.linear_model import LogisticRegression"
      ],
      "metadata": {
        "execution": {
          "iopub.status.busy": "2024-10-06T09:58:41.204233Z",
          "iopub.execute_input": "2024-10-06T09:58:41.205445Z",
          "iopub.status.idle": "2024-10-06T09:58:41.211907Z",
          "shell.execute_reply.started": "2024-10-06T09:58:41.205364Z",
          "shell.execute_reply": "2024-10-06T09:58:41.210057Z"
        },
        "trusted": true,
        "id": "38xm7N9IWLkO"
      },
      "execution_count": null,
      "outputs": []
    },
    {
      "cell_type": "code",
      "source": [
        "rf_model = RandomForestClassifier()\n",
        "lgbm_model = XGBClassifier()\n",
        "\n",
        "# Meta Learner\n",
        "meta_learner = LogisticRegression()\n",
        "\n",
        "\n",
        "# Train base learners\n",
        "rf_model.fit(X_train, y_train)\n",
        "lgbm_model.fit(X_train, y_train)\n",
        "\n",
        "\n",
        "# Get predictions from base learners\n",
        "rf_pred_train = rf_model.predict_proba(X_train)\n",
        "lgbm_pred_train = lgbm_model.predict_proba(X_train)\n",
        "\n",
        "rf_pred_test = rf_model.predict_proba(X_test)\n",
        "lgbm_pred_test = lgbm_model.predict_proba(X_test)\n",
        "\n",
        "\n",
        "# Create a new dataset with predictions from base learners\n",
        "X_train_meta = np.concatenate([rf_pred_train, lgbm_pred_train], axis=1)\n",
        "X_test_meta = np.concatenate([rf_pred_test, lgbm_pred_test], axis=1)\n",
        "\n",
        "# Train the meta learner\n",
        "meta_learner.fit(X_train_meta, y_train)\n",
        "\n",
        "# Make predictions using the meta learner\n",
        "y_pred_meta = meta_learner.predict(X_test_meta)\n",
        "\n",
        "\n",
        "# Generate and print the confusion matrix\n",
        "cm = confusion_matrix(y_test, y_pred_meta)\n",
        "print(\"Confusion Matrix:\")\n",
        "print(cm)\n",
        "\n",
        "# Plot the confusion matrix with Seaborn\n",
        "plt.figure(figsize=(8, 6))\n",
        "sns.heatmap(cm, annot=True, fmt='d', cmap='Blues',\n",
        "            xticklabels=['Not Duplicate', 'Duplicate'],\n",
        "            yticklabels=['Not Duplicate', 'Duplicate'])\n",
        "plt.xlabel('Predicted')\n",
        "plt.ylabel('Actual')\n",
        "plt.title('Confusion Matrix')\n",
        "plt.show()\n",
        "\n",
        "# Print the classification report\n",
        "print(\"\\nClassification Report:\")\n",
        "print(classification_report(y_test, y_pred_meta))\n"
      ],
      "metadata": {
        "execution": {
          "iopub.status.busy": "2024-10-06T10:03:17.814566Z",
          "iopub.execute_input": "2024-10-06T10:03:17.815522Z",
          "iopub.status.idle": "2024-10-06T10:08:21.585503Z",
          "shell.execute_reply.started": "2024-10-06T10:03:17.815476Z",
          "shell.execute_reply": "2024-10-06T10:08:21.584359Z"
        },
        "trusted": true,
        "id": "OdPVOtmuWLkO",
        "outputId": "f6aa7cba-f298-4087-d179-19549824d706"
      },
      "execution_count": null,
      "outputs": [
        {
          "name": "stdout",
          "text": "Confusion Matrix:\n[[10713  1801]\n [ 2333  5153]]\n",
          "output_type": "stream"
        },
        {
          "output_type": "display_data",
          "data": {
            "text/plain": "<Figure size 800x600 with 2 Axes>",
            "image/png": "[encoded data removed]"
          },
          "metadata": {}
        },
        {
          "name": "stdout",
          "text": "\nClassification Report:\n              precision    recall  f1-score   support\n\n           0       0.82      0.86      0.84     12514\n           1       0.74      0.69      0.71      7486\n\n    accuracy                           0.79     20000\n   macro avg       0.78      0.77      0.78     20000\nweighted avg       0.79      0.79      0.79     20000\n\n",
          "output_type": "stream"
        }
      ]
    },
    {
      "cell_type": "code",
      "source": [
        "import tensorflow as tf"
      ],
      "metadata": {
        "execution": {
          "iopub.status.busy": "2024-10-06T18:52:52.080527Z",
          "iopub.execute_input": "2024-10-06T18:52:52.081221Z",
          "iopub.status.idle": "2024-10-06T18:52:52.085355Z",
          "shell.execute_reply.started": "2024-10-06T18:52:52.081161Z",
          "shell.execute_reply": "2024-10-06T18:52:52.084363Z"
        },
        "trusted": true,
        "id": "LMXj8xC3WLkO"
      },
      "execution_count": null,
      "outputs": []
    },
    {
      "cell_type": "code",
      "source": [
        "\n",
        "from tensorflow.keras.models import Sequential\n",
        "from tensorflow.keras.layers import Dense\n",
        "from tensorflow.keras.optimizers import Adam"
      ],
      "metadata": {
        "execution": {
          "iopub.status.busy": "2024-10-06T18:52:54.325656Z",
          "iopub.execute_input": "2024-10-06T18:52:54.326614Z",
          "iopub.status.idle": "2024-10-06T18:52:54.330296Z",
          "shell.execute_reply.started": "2024-10-06T18:52:54.32658Z",
          "shell.execute_reply": "2024-10-06T18:52:54.329422Z"
        },
        "trusted": true,
        "id": "0shrxDZuWLkP"
      },
      "execution_count": null,
      "outputs": []
    },
    {
      "cell_type": "code",
      "source": [
        "import tensorflow as tf\n",
        "\n",
        "# Detect TPU\n",
        "try:\n",
        "    tpu = tf.distribute.cluster_resolver.TPUClusterResolver()  # Detect TPU\n",
        "    print('Running on TPU ', tpu.master())\n",
        "except ValueError:\n",
        "    print('Not connected to a TPU')\n",
        "\n",
        "# Initialize the TPU system\n",
        "tf.config.experimental_connect_to_cluster(tpu)\n",
        "tf.tpu.experimental.initialize_tpu_system(tpu)\n"
      ],
      "metadata": {
        "execution": {
          "iopub.status.busy": "2024-10-06T18:55:08.916314Z",
          "iopub.execute_input": "2024-10-06T18:55:08.917475Z",
          "iopub.status.idle": "2024-10-06T18:55:13.881838Z",
          "shell.execute_reply.started": "2024-10-06T18:55:08.917438Z",
          "shell.execute_reply": "2024-10-06T18:55:13.880873Z"
        },
        "trusted": true,
        "id": "9kUXM8VvWLkP",
        "outputId": "c447ff2a-ccc7-4223-deca-59f10267e13d"
      },
      "execution_count": null,
      "outputs": [
        {
          "name": "stdout",
          "text": "Running on TPU  \nINFO:tensorflow:Deallocate tpu buffers before initializing tpu system.\nINFO:tensorflow:Initializing the TPU system: local\nINFO:tensorflow:Finished initializing TPU system.\n",
          "output_type": "stream"
        },
        {
          "execution_count": 32,
          "output_type": "execute_result",
          "data": {
            "text/plain": "<tensorflow.python.tpu.topology.Topology at 0x7ee3e278be50>"
          },
          "metadata": {}
        }
      ]
    },
    {
      "cell_type": "code",
      "source": [],
      "metadata": {
        "id": "8WSaT7ZFWLkP"
      },
      "execution_count": null,
      "outputs": []
    },
    {
      "cell_type": "code",
      "source": [
        "!pip install xgboost\n",
        "from xgboost import XGBClassifier"
      ],
      "metadata": {
        "execution": {
          "iopub.status.busy": "2024-10-06T09:47:19.714992Z",
          "iopub.status.idle": "2024-10-06T09:47:19.715506Z",
          "shell.execute_reply.started": "2024-10-06T09:47:19.715231Z",
          "shell.execute_reply": "2024-10-06T09:47:19.715253Z"
        },
        "trusted": true,
        "id": "ENNLHBPMWLkP"
      },
      "execution_count": null,
      "outputs": []
    },
    {
      "cell_type": "code",
      "source": [
        "from lb"
      ],
      "metadata": {
        "id": "W0ACcpgpWLkP"
      },
      "execution_count": null,
      "outputs": []
    },
    {
      "cell_type": "code",
      "source": [
        "from sklearn.ensemble import StackingClassifier\n",
        "from sklearn.linear_model import LogisticRegression\n",
        "\n",
        "# Define your base models (e.g., RandomForest, XGBoost, LightGBM)\n",
        "base_models = [\n",
        "    ('rf', RandomForestClassifier()),\n",
        "    ('lgbm',lgb.LGBMClassifier()),\n",
        "    ('xgb', XGBClassifier()),\n",
        "]\n",
        "\n",
        "# Define your meta-learner (e.g., Logistic Regression)\n",
        "meta_learner = LogisticRegression()\n",
        "\n",
        "# Create the stacking classifier\n",
        "stacking_classifier = StackingClassifier(estimators=base_models, final_estimator=meta_learner)\n",
        "\n",
        "# Train the stacking classifier\n",
        "stacking_classifier.fit(X_train, y_train)\n",
        "\n",
        "# Make predictions\n",
        "y_pred_stacking = stacking_classifier.predict(X_test)\n",
        "\n",
        "# Evaluate the model\n",
        "accuracy_stacking = accuracy_score(y_test, y_pred_stacking)\n",
        "print(\"Stacking Accuracy:\", accuracy_stacking)\n",
        "\n",
        "print(confusion_matrix(y_test, y_pred_stacking))\n",
        "print(classification_report(y_test, y_pred_stacking))\n",
        "\n",
        "cm = confusion_matrix(y_test, y_pred_stacking)\n",
        "disp = ConfusionMatrixDisplay(confusion_matrix=cm)\n",
        "disp.plot()\n",
        "plt.show()\n"
      ],
      "metadata": {
        "execution": {
          "iopub.status.busy": "2024-10-06T21:14:32.563383Z",
          "iopub.execute_input": "2024-10-06T21:14:32.56429Z",
          "iopub.status.idle": "2024-10-06T21:30:55.032061Z",
          "shell.execute_reply.started": "2024-10-06T21:14:32.564253Z",
          "shell.execute_reply": "2024-10-06T21:30:55.030882Z"
        },
        "trusted": true,
        "id": "Ci1JJatRWLkQ",
        "outputId": "dc1aad84-b8ae-449a-c2eb-b5c43e649f03"
      },
      "execution_count": null,
      "outputs": [
        {
          "name": "stdout",
          "text": "[LightGBM] [Info] Number of positive: 29616, number of negative: 50384\n[LightGBM] [Info] Auto-choosing col-wise multi-threading, the overhead of testing was 0.248967 seconds.\nYou can set `force_col_wise=true` to remove the overhead.\n[LightGBM] [Info] Total Bins 19267\n[LightGBM] [Info] Number of data points in the train set: 80000, number of used features: 5923\n[LightGBM] [Info] [binary:BoostFromScore]: pavg=0.370200 -> initscore=-0.531359\n[LightGBM] [Info] Start training from score -0.531359\n[LightGBM] [Info] Number of positive: 23693, number of negative: 40307\n[LightGBM] [Info] Auto-choosing col-wise multi-threading, the overhead of testing was 0.173867 seconds.\nYou can set `force_col_wise=true` to remove the overhead.\n[LightGBM] [Info] Total Bins 18030\n[LightGBM] [Info] Number of data points in the train set: 64000, number of used features: 5516\n[LightGBM] [Info] [binary:BoostFromScore]: pavg=0.370203 -> initscore=-0.531346\n[LightGBM] [Info] Start training from score -0.531346\n[LightGBM] [Info] Number of positive: 23693, number of negative: 40307\n[LightGBM] [Info] Auto-choosing col-wise multi-threading, the overhead of testing was 0.188174 seconds.\nYou can set `force_col_wise=true` to remove the overhead.\n[LightGBM] [Info] Total Bins 17940\n[LightGBM] [Info] Number of data points in the train set: 64000, number of used features: 5484\n[LightGBM] [Info] [binary:BoostFromScore]: pavg=0.370203 -> initscore=-0.531346\n[LightGBM] [Info] Start training from score -0.531346\n[LightGBM] [Info] Number of positive: 23693, number of negative: 40307\n[LightGBM] [Info] Auto-choosing col-wise multi-threading, the overhead of testing was 0.197680 seconds.\nYou can set `force_col_wise=true` to remove the overhead.\n[LightGBM] [Info] Total Bins 17841\n[LightGBM] [Info] Number of data points in the train set: 64000, number of used features: 5470\n[LightGBM] [Info] [binary:BoostFromScore]: pavg=0.370203 -> initscore=-0.531346\n[LightGBM] [Info] Start training from score -0.531346\n[LightGBM] [Info] Number of positive: 23693, number of negative: 40307\n[LightGBM] [Info] Auto-choosing col-wise multi-threading, the overhead of testing was 0.171102 seconds.\nYou can set `force_col_wise=true` to remove the overhead.\n[LightGBM] [Info] Total Bins 17959\n[LightGBM] [Info] Number of data points in the train set: 64000, number of used features: 5498\n[LightGBM] [Info] [binary:BoostFromScore]: pavg=0.370203 -> initscore=-0.531346\n[LightGBM] [Info] Start training from score -0.531346\n[LightGBM] [Info] Number of positive: 23692, number of negative: 40308\n[LightGBM] [Info] Auto-choosing col-wise multi-threading, the overhead of testing was 0.194184 seconds.\nYou can set `force_col_wise=true` to remove the overhead.\n[LightGBM] [Info] Total Bins 17874\n[LightGBM] [Info] Number of data points in the train set: 64000, number of used features: 5473\n[LightGBM] [Info] [binary:BoostFromScore]: pavg=0.370188 -> initscore=-0.531413\n[LightGBM] [Info] Start training from score -0.531413\nStacking Accuracy: 0.80315\n",
          "output_type": "stream"
        },
        {
          "traceback": [
            "\u001b[0;31m---------------------------------------------------------------------------\u001b[0m",
            "\u001b[0;31mNameError\u001b[0m                                 Traceback (most recent call last)",
            "Cell \u001b[0;32mIn[51], line 27\u001b[0m\n\u001b[1;32m     24\u001b[0m accuracy_stacking \u001b[38;5;241m=\u001b[39m accuracy_score(y_test, y_pred_stacking)\n\u001b[1;32m     25\u001b[0m \u001b[38;5;28mprint\u001b[39m(\u001b[38;5;124m\"\u001b[39m\u001b[38;5;124mStacking Accuracy:\u001b[39m\u001b[38;5;124m\"\u001b[39m, accuracy_stacking)\n\u001b[0;32m---> 27\u001b[0m \u001b[38;5;28mprint\u001b[39m(\u001b[43mconfusion_matrix\u001b[49m(y_test, y_pred_stacking))\n\u001b[1;32m     28\u001b[0m \u001b[38;5;28mprint\u001b[39m(classification_report(y_test, y_pred_stacking))\n\u001b[1;32m     30\u001b[0m cm \u001b[38;5;241m=\u001b[39m confusion_matrix(y_test, y_pred_stacking)\n",
            "\u001b[0;31mNameError\u001b[0m: name 'confusion_matrix' is not defined"
          ],
          "ename": "NameError",
          "evalue": "name 'confusion_matrix' is not defined",
          "output_type": "error"
        }
      ]
    },
    {
      "cell_type": "code",
      "source": [
        "from sklearn.metrics import confusion_matrix, classification_report\n",
        "y_pred_stacking = stacking_classifier.predict(X_test)\n",
        "accuracy_stacking = accuracy_score(y_test, y_pred_stacking)\n",
        "print(\"Stacking Accuracy:\", accuracy_stacking)\n",
        "print(confusion_matrix(y_test, y_pred_stacking))\n",
        "print(classification_report(y_test, y_pred_stacking))\n",
        "cm = confusion_matrix(y_test, y_pred_stacking)\n",
        "plt.show()"
      ],
      "metadata": {
        "execution": {
          "iopub.status.busy": "2024-10-06T21:32:52.880528Z",
          "iopub.execute_input": "2024-10-06T21:32:52.881539Z",
          "iopub.status.idle": "2024-10-06T21:32:55.277573Z",
          "shell.execute_reply.started": "2024-10-06T21:32:52.881496Z",
          "shell.execute_reply": "2024-10-06T21:32:55.275676Z"
        },
        "trusted": true,
        "id": "JPgYtIAoWLkQ",
        "outputId": "75bbbade-f9c8-4258-b86d-d348b48e08b9"
      },
      "execution_count": null,
      "outputs": [
        {
          "name": "stdout",
          "text": "Stacking Accuracy: 0.80315\n[[10721  1793]\n [ 2144  5342]]\n              precision    recall  f1-score   support\n\n           0       0.83      0.86      0.84     12514\n           1       0.75      0.71      0.73      7486\n\n    accuracy                           0.80     20000\n   macro avg       0.79      0.79      0.79     20000\nweighted avg       0.80      0.80      0.80     20000\n\n",
          "output_type": "stream"
        },
        {
          "traceback": [
            "\u001b[0;31m---------------------------------------------------------------------------\u001b[0m",
            "\u001b[0;31mNameError\u001b[0m                                 Traceback (most recent call last)",
            "Cell \u001b[0;32mIn[52], line 8\u001b[0m\n\u001b[1;32m      6\u001b[0m \u001b[38;5;28mprint\u001b[39m(classification_report(y_test, y_pred_stacking))\n\u001b[1;32m      7\u001b[0m cm \u001b[38;5;241m=\u001b[39m confusion_matrix(y_test, y_pred_stacking)\n\u001b[0;32m----> 8\u001b[0m \u001b[43mplt\u001b[49m\u001b[38;5;241m.\u001b[39mshow()\n",
            "\u001b[0;31mNameError\u001b[0m: name 'plt' is not defined"
          ],
          "ename": "NameError",
          "evalue": "name 'plt' is not defined",
          "output_type": "error"
        }
      ]
    },
    {
      "cell_type": "code",
      "source": [],
      "metadata": {
        "id": "xJ3LoR2AWLkQ"
      },
      "execution_count": null,
      "outputs": []
    }
  ]
}